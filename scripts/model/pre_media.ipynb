{
 "cells": [
  {
   "cell_type": "code",
   "execution_count": 1,
   "id": "532f97f5-bbe1-42ba-bf28-379b106345ee",
   "metadata": {
    "tags": []
   },
   "outputs": [],
   "source": [
    "import numpy as np\n",
    "import pandas as pd\n",
    "import torch\n",
    "import torch.nn as nn\n",
    "from torch.utils.data import Dataset, DataLoader , random_split,SubsetRandomSampler\n",
    "from sklearn.model_selection import train_test_split\n",
    "from sklearn.metrics import mean_squared_error, r2_score\n",
    "from tqdm import tqdm\n",
    "import pickle\n",
    "from sklearn.metrics import confusion_matrix, f1_score, accuracy_score, precision_score, recall_score, roc_auc_score\n",
    "import warnings"
   ]
  },
  {
   "cell_type": "code",
   "execution_count": 2,
   "id": "e5501a28-02c3-4e19-98ec-22cf5d77b338",
   "metadata": {
    "tags": []
   },
   "outputs": [],
   "source": [
    "exp = pd.read_csv(\"/home/data/sdb/wt/model_data/cell_media_pre.csv\")"
   ]
  },
  {
   "cell_type": "code",
   "execution_count": 3,
   "id": "b6e9b649-a0ad-460a-8ff7-0b262c69748d",
   "metadata": {
    "tags": []
   },
   "outputs": [
    {
     "data": {
      "text/html": [
       "<div>\n",
       "<style scoped>\n",
       "    .dataframe tbody tr th:only-of-type {\n",
       "        vertical-align: middle;\n",
       "    }\n",
       "\n",
       "    .dataframe tbody tr th {\n",
       "        vertical-align: top;\n",
       "    }\n",
       "\n",
       "    .dataframe thead th {\n",
       "        text-align: right;\n",
       "    }\n",
       "</style>\n",
       "<table border=\"1\" class=\"dataframe\">\n",
       "  <thead>\n",
       "    <tr style=\"text-align: right;\">\n",
       "      <th></th>\n",
       "      <th>cell</th>\n",
       "      <th>media</th>\n",
       "      <th>TSPAN6</th>\n",
       "      <th>TNMD</th>\n",
       "      <th>FGR</th>\n",
       "      <th>CFH</th>\n",
       "      <th>FUCA2</th>\n",
       "      <th>GCLC</th>\n",
       "      <th>NIPAL3</th>\n",
       "      <th>ENPP4</th>\n",
       "      <th>...</th>\n",
       "      <th>CCL3</th>\n",
       "      <th>RDM1</th>\n",
       "      <th>SSTR3</th>\n",
       "      <th>ZNF229</th>\n",
       "      <th>PAGR1</th>\n",
       "      <th>TMEM265</th>\n",
       "      <th>IQCJ-SCHIP1</th>\n",
       "      <th>FAM95C</th>\n",
       "      <th>POLR2J3</th>\n",
       "      <th>CDR1</th>\n",
       "    </tr>\n",
       "  </thead>\n",
       "  <tbody>\n",
       "    <tr>\n",
       "      <th>0</th>\n",
       "      <td>ACH-001339</td>\n",
       "      <td>1</td>\n",
       "      <td>3.150560</td>\n",
       "      <td>0.0</td>\n",
       "      <td>0.056584</td>\n",
       "      <td>1.310340</td>\n",
       "      <td>6.687201</td>\n",
       "      <td>3.682573</td>\n",
       "      <td>3.494416</td>\n",
       "      <td>0.790772</td>\n",
       "      <td>...</td>\n",
       "      <td>1.035624</td>\n",
       "      <td>1.948601</td>\n",
       "      <td>0.000000</td>\n",
       "      <td>0.536053</td>\n",
       "      <td>3.005400</td>\n",
       "      <td>0.454176</td>\n",
       "      <td>4.912650</td>\n",
       "      <td>0.000000</td>\n",
       "      <td>4.807355</td>\n",
       "      <td>0.042644</td>\n",
       "    </tr>\n",
       "    <tr>\n",
       "      <th>1</th>\n",
       "      <td>ACH-001538</td>\n",
       "      <td>0</td>\n",
       "      <td>5.085340</td>\n",
       "      <td>0.0</td>\n",
       "      <td>0.000000</td>\n",
       "      <td>5.868390</td>\n",
       "      <td>6.165309</td>\n",
       "      <td>4.489928</td>\n",
       "      <td>4.418865</td>\n",
       "      <td>3.485427</td>\n",
       "      <td>...</td>\n",
       "      <td>0.722466</td>\n",
       "      <td>2.759156</td>\n",
       "      <td>0.000000</td>\n",
       "      <td>2.094236</td>\n",
       "      <td>3.075533</td>\n",
       "      <td>4.426265</td>\n",
       "      <td>4.541019</td>\n",
       "      <td>0.604071</td>\n",
       "      <td>3.702658</td>\n",
       "      <td>0.000000</td>\n",
       "    </tr>\n",
       "    <tr>\n",
       "      <th>2</th>\n",
       "      <td>ACH-000327</td>\n",
       "      <td>1</td>\n",
       "      <td>3.337711</td>\n",
       "      <td>0.0</td>\n",
       "      <td>0.014355</td>\n",
       "      <td>3.090853</td>\n",
       "      <td>6.011451</td>\n",
       "      <td>3.642702</td>\n",
       "      <td>3.780310</td>\n",
       "      <td>3.280956</td>\n",
       "      <td>...</td>\n",
       "      <td>0.000000</td>\n",
       "      <td>1.014355</td>\n",
       "      <td>0.000000</td>\n",
       "      <td>1.871844</td>\n",
       "      <td>3.758090</td>\n",
       "      <td>0.084064</td>\n",
       "      <td>1.807355</td>\n",
       "      <td>1.669027</td>\n",
       "      <td>4.986411</td>\n",
       "      <td>0.250962</td>\n",
       "    </tr>\n",
       "    <tr>\n",
       "      <th>3</th>\n",
       "      <td>ACH-000233</td>\n",
       "      <td>1</td>\n",
       "      <td>0.056584</td>\n",
       "      <td>0.0</td>\n",
       "      <td>0.028569</td>\n",
       "      <td>6.093602</td>\n",
       "      <td>3.033863</td>\n",
       "      <td>3.422233</td>\n",
       "      <td>3.821710</td>\n",
       "      <td>3.207893</td>\n",
       "      <td>...</td>\n",
       "      <td>2.253989</td>\n",
       "      <td>0.056584</td>\n",
       "      <td>0.028569</td>\n",
       "      <td>0.014355</td>\n",
       "      <td>3.330558</td>\n",
       "      <td>1.028569</td>\n",
       "      <td>3.102658</td>\n",
       "      <td>2.448901</td>\n",
       "      <td>6.766330</td>\n",
       "      <td>0.000000</td>\n",
       "    </tr>\n",
       "    <tr>\n",
       "      <th>4</th>\n",
       "      <td>ACH-000461</td>\n",
       "      <td>1</td>\n",
       "      <td>4.017031</td>\n",
       "      <td>0.0</td>\n",
       "      <td>0.028569</td>\n",
       "      <td>0.084064</td>\n",
       "      <td>5.588565</td>\n",
       "      <td>6.380937</td>\n",
       "      <td>3.053111</td>\n",
       "      <td>2.392317</td>\n",
       "      <td>...</td>\n",
       "      <td>0.070389</td>\n",
       "      <td>2.792855</td>\n",
       "      <td>0.042644</td>\n",
       "      <td>0.014355</td>\n",
       "      <td>3.414136</td>\n",
       "      <td>4.792335</td>\n",
       "      <td>3.168321</td>\n",
       "      <td>1.104337</td>\n",
       "      <td>5.464995</td>\n",
       "      <td>0.000000</td>\n",
       "    </tr>\n",
       "    <tr>\n",
       "      <th>...</th>\n",
       "      <td>...</td>\n",
       "      <td>...</td>\n",
       "      <td>...</td>\n",
       "      <td>...</td>\n",
       "      <td>...</td>\n",
       "      <td>...</td>\n",
       "      <td>...</td>\n",
       "      <td>...</td>\n",
       "      <td>...</td>\n",
       "      <td>...</td>\n",
       "      <td>...</td>\n",
       "      <td>...</td>\n",
       "      <td>...</td>\n",
       "      <td>...</td>\n",
       "      <td>...</td>\n",
       "      <td>...</td>\n",
       "      <td>...</td>\n",
       "      <td>...</td>\n",
       "      <td>...</td>\n",
       "      <td>...</td>\n",
       "      <td>...</td>\n",
       "    </tr>\n",
       "    <tr>\n",
       "      <th>905</th>\n",
       "      <td>ACH-000285</td>\n",
       "      <td>1</td>\n",
       "      <td>0.056584</td>\n",
       "      <td>0.0</td>\n",
       "      <td>0.411426</td>\n",
       "      <td>0.097611</td>\n",
       "      <td>0.704872</td>\n",
       "      <td>4.829850</td>\n",
       "      <td>3.326250</td>\n",
       "      <td>2.321928</td>\n",
       "      <td>...</td>\n",
       "      <td>1.070389</td>\n",
       "      <td>2.451541</td>\n",
       "      <td>0.028569</td>\n",
       "      <td>0.014355</td>\n",
       "      <td>3.835924</td>\n",
       "      <td>0.000000</td>\n",
       "      <td>0.111031</td>\n",
       "      <td>0.014355</td>\n",
       "      <td>6.325530</td>\n",
       "      <td>0.042644</td>\n",
       "    </tr>\n",
       "    <tr>\n",
       "      <th>906</th>\n",
       "      <td>ACH-002669</td>\n",
       "      <td>1</td>\n",
       "      <td>3.111031</td>\n",
       "      <td>0.0</td>\n",
       "      <td>0.014355</td>\n",
       "      <td>3.624101</td>\n",
       "      <td>6.805421</td>\n",
       "      <td>4.472488</td>\n",
       "      <td>3.665620</td>\n",
       "      <td>2.330558</td>\n",
       "      <td>...</td>\n",
       "      <td>1.490570</td>\n",
       "      <td>2.972693</td>\n",
       "      <td>0.028569</td>\n",
       "      <td>0.014355</td>\n",
       "      <td>2.408712</td>\n",
       "      <td>4.935460</td>\n",
       "      <td>4.458119</td>\n",
       "      <td>0.516015</td>\n",
       "      <td>5.073392</td>\n",
       "      <td>0.000000</td>\n",
       "    </tr>\n",
       "    <tr>\n",
       "      <th>907</th>\n",
       "      <td>ACH-001858</td>\n",
       "      <td>1</td>\n",
       "      <td>4.390943</td>\n",
       "      <td>0.0</td>\n",
       "      <td>0.028569</td>\n",
       "      <td>3.286881</td>\n",
       "      <td>6.902194</td>\n",
       "      <td>5.410748</td>\n",
       "      <td>4.047015</td>\n",
       "      <td>2.757023</td>\n",
       "      <td>...</td>\n",
       "      <td>0.000000</td>\n",
       "      <td>0.887525</td>\n",
       "      <td>0.014355</td>\n",
       "      <td>1.111031</td>\n",
       "      <td>2.805292</td>\n",
       "      <td>3.238787</td>\n",
       "      <td>4.646739</td>\n",
       "      <td>0.111031</td>\n",
       "      <td>4.486714</td>\n",
       "      <td>0.526069</td>\n",
       "    </tr>\n",
       "    <tr>\n",
       "      <th>908</th>\n",
       "      <td>ACH-001997</td>\n",
       "      <td>1</td>\n",
       "      <td>5.057450</td>\n",
       "      <td>0.0</td>\n",
       "      <td>0.028569</td>\n",
       "      <td>4.079805</td>\n",
       "      <td>6.971659</td>\n",
       "      <td>4.469886</td>\n",
       "      <td>4.933100</td>\n",
       "      <td>3.275007</td>\n",
       "      <td>...</td>\n",
       "      <td>0.263034</td>\n",
       "      <td>1.879706</td>\n",
       "      <td>0.000000</td>\n",
       "      <td>1.275007</td>\n",
       "      <td>3.547203</td>\n",
       "      <td>4.915999</td>\n",
       "      <td>4.104337</td>\n",
       "      <td>0.799087</td>\n",
       "      <td>4.595146</td>\n",
       "      <td>0.000000</td>\n",
       "    </tr>\n",
       "    <tr>\n",
       "      <th>909</th>\n",
       "      <td>ACH-000052</td>\n",
       "      <td>0</td>\n",
       "      <td>4.249445</td>\n",
       "      <td>0.0</td>\n",
       "      <td>0.189034</td>\n",
       "      <td>1.321928</td>\n",
       "      <td>3.538538</td>\n",
       "      <td>3.945795</td>\n",
       "      <td>3.423578</td>\n",
       "      <td>0.226509</td>\n",
       "      <td>...</td>\n",
       "      <td>0.163499</td>\n",
       "      <td>2.298658</td>\n",
       "      <td>0.000000</td>\n",
       "      <td>2.414136</td>\n",
       "      <td>4.889960</td>\n",
       "      <td>0.000000</td>\n",
       "      <td>0.536053</td>\n",
       "      <td>0.014355</td>\n",
       "      <td>4.428946</td>\n",
       "      <td>0.056584</td>\n",
       "    </tr>\n",
       "  </tbody>\n",
       "</table>\n",
       "<p>910 rows × 7995 columns</p>\n",
       "</div>"
      ],
      "text/plain": [
       "           cell  media    TSPAN6  TNMD       FGR       CFH     FUCA2  \\\n",
       "0    ACH-001339      1  3.150560   0.0  0.056584  1.310340  6.687201   \n",
       "1    ACH-001538      0  5.085340   0.0  0.000000  5.868390  6.165309   \n",
       "2    ACH-000327      1  3.337711   0.0  0.014355  3.090853  6.011451   \n",
       "3    ACH-000233      1  0.056584   0.0  0.028569  6.093602  3.033863   \n",
       "4    ACH-000461      1  4.017031   0.0  0.028569  0.084064  5.588565   \n",
       "..          ...    ...       ...   ...       ...       ...       ...   \n",
       "905  ACH-000285      1  0.056584   0.0  0.411426  0.097611  0.704872   \n",
       "906  ACH-002669      1  3.111031   0.0  0.014355  3.624101  6.805421   \n",
       "907  ACH-001858      1  4.390943   0.0  0.028569  3.286881  6.902194   \n",
       "908  ACH-001997      1  5.057450   0.0  0.028569  4.079805  6.971659   \n",
       "909  ACH-000052      0  4.249445   0.0  0.189034  1.321928  3.538538   \n",
       "\n",
       "         GCLC    NIPAL3     ENPP4  ...      CCL3      RDM1     SSTR3  \\\n",
       "0    3.682573  3.494416  0.790772  ...  1.035624  1.948601  0.000000   \n",
       "1    4.489928  4.418865  3.485427  ...  0.722466  2.759156  0.000000   \n",
       "2    3.642702  3.780310  3.280956  ...  0.000000  1.014355  0.000000   \n",
       "3    3.422233  3.821710  3.207893  ...  2.253989  0.056584  0.028569   \n",
       "4    6.380937  3.053111  2.392317  ...  0.070389  2.792855  0.042644   \n",
       "..        ...       ...       ...  ...       ...       ...       ...   \n",
       "905  4.829850  3.326250  2.321928  ...  1.070389  2.451541  0.028569   \n",
       "906  4.472488  3.665620  2.330558  ...  1.490570  2.972693  0.028569   \n",
       "907  5.410748  4.047015  2.757023  ...  0.000000  0.887525  0.014355   \n",
       "908  4.469886  4.933100  3.275007  ...  0.263034  1.879706  0.000000   \n",
       "909  3.945795  3.423578  0.226509  ...  0.163499  2.298658  0.000000   \n",
       "\n",
       "       ZNF229     PAGR1   TMEM265  IQCJ-SCHIP1    FAM95C   POLR2J3      CDR1  \n",
       "0    0.536053  3.005400  0.454176     4.912650  0.000000  4.807355  0.042644  \n",
       "1    2.094236  3.075533  4.426265     4.541019  0.604071  3.702658  0.000000  \n",
       "2    1.871844  3.758090  0.084064     1.807355  1.669027  4.986411  0.250962  \n",
       "3    0.014355  3.330558  1.028569     3.102658  2.448901  6.766330  0.000000  \n",
       "4    0.014355  3.414136  4.792335     3.168321  1.104337  5.464995  0.000000  \n",
       "..        ...       ...       ...          ...       ...       ...       ...  \n",
       "905  0.014355  3.835924  0.000000     0.111031  0.014355  6.325530  0.042644  \n",
       "906  0.014355  2.408712  4.935460     4.458119  0.516015  5.073392  0.000000  \n",
       "907  1.111031  2.805292  3.238787     4.646739  0.111031  4.486714  0.526069  \n",
       "908  1.275007  3.547203  4.915999     4.104337  0.799087  4.595146  0.000000  \n",
       "909  2.414136  4.889960  0.000000     0.536053  0.014355  4.428946  0.056584  \n",
       "\n",
       "[910 rows x 7995 columns]"
      ]
     },
     "execution_count": 3,
     "metadata": {},
     "output_type": "execute_result"
    }
   ],
   "source": [
    "exp"
   ]
  },
  {
   "cell_type": "code",
   "execution_count": 4,
   "id": "fe6e9b42-e59e-4565-b46c-6982f91260f1",
   "metadata": {
    "tags": []
   },
   "outputs": [],
   "source": [
    "class media_dt(Dataset):\n",
    "    def __init__(self, exp_dt):\n",
    "        self.exp = exp_dt\n",
    "    def __len__(self):\n",
    "        return len(self.exp)\n",
    "    def __getitem__(self, idx): \n",
    "        media = torch.tensor(self.exp.loc[idx,].media)\n",
    "        exp = torch.tensor(list(self.exp.loc[idx,][2:7995]))\n",
    "        cell = self.exp.loc[idx,].cell\n",
    "        return exp, media, cell"
   ]
  },
  {
   "cell_type": "code",
   "execution_count": 5,
   "id": "5ede9778-a4c7-4fd2-8efe-a4a444c42cdf",
   "metadata": {
    "tags": []
   },
   "outputs": [],
   "source": [
    "dt = media_dt(exp)"
   ]
  },
  {
   "cell_type": "code",
   "execution_count": 6,
   "id": "defef68b-8195-4bfe-94be-668bba402552",
   "metadata": {
    "tags": []
   },
   "outputs": [],
   "source": [
    "from sklearn.model_selection import KFold\n",
    "import random\n",
    "splits = KFold(n_splits=5,shuffle=True,random_state=2024052001)"
   ]
  },
  {
   "cell_type": "code",
   "execution_count": 7,
   "id": "83172ca7-04d3-4756-ba99-0a0a30147b57",
   "metadata": {
    "tags": []
   },
   "outputs": [],
   "source": [
    "class Net(torch.nn.Module):\n",
    "    def __init__(self):\n",
    "        super().__init__()\n",
    "        self.encoder = torch.nn.Sequential(\n",
    "            torch.nn.Linear(7993, 512),\n",
    "            torch.nn.ReLU(),\n",
    "            torch.nn.Linear(512, 256),\n",
    "            torch.nn.ReLU(),\n",
    "            torch.nn.Linear(256, 1)\n",
    "        )\n",
    "\n",
    "    def forward(self, x):\n",
    "        x = self.encoder(x)\n",
    "        return x"
   ]
  },
  {
   "cell_type": "code",
   "execution_count": 8,
   "id": "c292cceb-e35f-4767-84b5-73a0b201fbd5",
   "metadata": {
    "tags": []
   },
   "outputs": [],
   "source": [
    "device = torch.device(\"cuda\" if torch.cuda.is_available() else \"cpu\")\n",
    "loss_op = torch.nn.BCEWithLogitsLoss()"
   ]
  },
  {
   "cell_type": "code",
   "execution_count": 9,
   "id": "2209bd4e-7432-4487-aefc-69d98e94b66b",
   "metadata": {
    "tags": []
   },
   "outputs": [],
   "source": [
    "from tqdm import tqdm\n",
    "\n",
    "def train():\n",
    "    model.train()\n",
    "\n",
    "    total_loss = 0\n",
    "    step = 0 \n",
    "    for _, data in enumerate(tqdm(train_loader)):\n",
    "        input_x = data[0].to(device)\n",
    "        ys = data[1].to(device)\n",
    "        optimizer.zero_grad()\n",
    "        pred = model(input_x.float())\n",
    "        loss = loss_op(\n",
    "            pred,\n",
    "            ys.float().reshape(-1, 1),\n",
    "        )\n",
    "        total_loss += loss.item() \n",
    "        loss.backward()\n",
    "        optimizer.step()\n",
    "        step = step + 1\n",
    "    return total_loss / step\n",
    "\n",
    "\n",
    "@torch.no_grad()\n",
    "def test():\n",
    "    model.eval()\n",
    "\n",
    "    ys, preds, preds_raw, cells = [], [], [], []\n",
    "    total_loss = 0\n",
    "    step = 0 \n",
    "    for _, data in enumerate(tqdm(test_loader)):\n",
    "        input_x = data[0].to(device)\n",
    "        label = data[1].to(device)\n",
    "        ys.append(label.cpu().detach().numpy())\n",
    "        cells.append(data[2])\n",
    "        out = model(input_x.float())\n",
    "        loss = loss_op(\n",
    "            out,\n",
    "            label.float().reshape(-1, 1),\n",
    "        )\n",
    "        total_loss += loss.item() \n",
    "        step = step + 1\n",
    "        preds.append(np.rint(torch.sigmoid(out).cpu().detach().numpy()))\n",
    "        preds_raw.append(torch.sigmoid(out).cpu().detach().numpy())\n",
    "\n",
    "    all_preds = np.concatenate(preds).ravel()\n",
    "    all_labels = np.concatenate(ys).ravel()\n",
    "    all_preds_raw = np.concatenate(preds_raw).ravel()\n",
    "    all_cells = np.concatenate(cells).ravel()\n",
    "    \n",
    "    res = pd.DataFrame({\"preds\":all_preds,\"preds_raw\":all_preds_raw,\"label\":all_labels,\"cells\":all_cells})\n",
    "    calculate_metrics(all_preds, all_labels, epoch, \"test\")\n",
    "    return total_loss / step, res\n",
    "\n",
    "\n",
    "def calculate_metrics(y_pred, y_true, epoch, type):\n",
    "    print(f\"\\n Confusion matrix: \\n {confusion_matrix(y_true, y_pred)}\")\n",
    "    print(f\"F1 Score: {f1_score(y_true, y_pred)}\")\n",
    "    print(f\"Accuracy: {accuracy_score(y_true, y_pred)}\")\n",
    "    prec = precision_score(y_true, y_pred)\n",
    "    rec = recall_score(y_true, y_pred)\n",
    "    print(f\"Precision: {prec}\")\n",
    "    print(f\"Recall: {rec}\")\n",
    "    try:\n",
    "        roc = roc_auc_score(y_true, y_pred)\n",
    "        print(f\"ROC AUC: {roc}\")\n",
    "    except:\n",
    "        print(f\"ROC AUC: notdefined\")"
   ]
  },
  {
   "cell_type": "code",
   "execution_count": 10,
   "id": "30b70908-0684-4849-94b8-7a8d09134c9f",
   "metadata": {
    "tags": []
   },
   "outputs": [
    {
     "name": "stdout",
     "output_type": "stream",
     "text": [
      "Fold 1\n"
     ]
    },
    {
     "name": "stderr",
     "output_type": "stream",
     "text": [
      "100%|██████████| 46/46 [00:01<00:00, 26.05it/s]\n"
     ]
    },
    {
     "name": "stdout",
     "output_type": "stream",
     "text": [
      "Epoch: 000, Train Loss: 1.1085\n"
     ]
    },
    {
     "name": "stderr",
     "output_type": "stream",
     "text": [
      "100%|██████████| 46/46 [00:01<00:00, 34.36it/s]\n"
     ]
    },
    {
     "name": "stdout",
     "output_type": "stream",
     "text": [
      "Epoch: 001, Train Loss: 0.4642\n"
     ]
    },
    {
     "name": "stderr",
     "output_type": "stream",
     "text": [
      "100%|██████████| 46/46 [00:01<00:00, 31.49it/s]\n"
     ]
    },
    {
     "name": "stdout",
     "output_type": "stream",
     "text": [
      "Epoch: 002, Train Loss: 0.4445\n"
     ]
    },
    {
     "name": "stderr",
     "output_type": "stream",
     "text": [
      "100%|██████████| 46/46 [00:01<00:00, 29.28it/s]\n"
     ]
    },
    {
     "name": "stdout",
     "output_type": "stream",
     "text": [
      "Epoch: 003, Train Loss: 0.4175\n"
     ]
    },
    {
     "name": "stderr",
     "output_type": "stream",
     "text": [
      "100%|██████████| 46/46 [00:01<00:00, 33.14it/s]\n"
     ]
    },
    {
     "name": "stdout",
     "output_type": "stream",
     "text": [
      "Epoch: 004, Train Loss: 0.3943\n"
     ]
    },
    {
     "name": "stderr",
     "output_type": "stream",
     "text": [
      "100%|██████████| 46/46 [00:01<00:00, 26.34it/s]\n"
     ]
    },
    {
     "name": "stdout",
     "output_type": "stream",
     "text": [
      "Epoch: 005, Train Loss: 0.4024\n"
     ]
    },
    {
     "name": "stderr",
     "output_type": "stream",
     "text": [
      "100%|██████████| 46/46 [00:01<00:00, 28.37it/s]\n"
     ]
    },
    {
     "name": "stdout",
     "output_type": "stream",
     "text": [
      "Epoch: 006, Train Loss: 0.3489\n"
     ]
    },
    {
     "name": "stderr",
     "output_type": "stream",
     "text": [
      "100%|██████████| 46/46 [00:01<00:00, 36.52it/s]\n"
     ]
    },
    {
     "name": "stdout",
     "output_type": "stream",
     "text": [
      "Epoch: 007, Train Loss: 0.3004\n"
     ]
    },
    {
     "name": "stderr",
     "output_type": "stream",
     "text": [
      "100%|██████████| 46/46 [00:01<00:00, 24.15it/s]\n"
     ]
    },
    {
     "name": "stdout",
     "output_type": "stream",
     "text": [
      "Epoch: 008, Train Loss: 0.2182\n"
     ]
    },
    {
     "name": "stderr",
     "output_type": "stream",
     "text": [
      "100%|██████████| 46/46 [00:01<00:00, 28.78it/s]\n"
     ]
    },
    {
     "name": "stdout",
     "output_type": "stream",
     "text": [
      "Epoch: 009, Train Loss: 0.2349\n"
     ]
    },
    {
     "name": "stderr",
     "output_type": "stream",
     "text": [
      "100%|██████████| 46/46 [00:01<00:00, 29.86it/s]\n"
     ]
    },
    {
     "name": "stdout",
     "output_type": "stream",
     "text": [
      "Epoch: 010, Train Loss: 0.1409\n"
     ]
    },
    {
     "name": "stderr",
     "output_type": "stream",
     "text": [
      "100%|██████████| 46/46 [00:01<00:00, 26.97it/s]\n"
     ]
    },
    {
     "name": "stdout",
     "output_type": "stream",
     "text": [
      "Epoch: 011, Train Loss: 0.0713\n"
     ]
    },
    {
     "name": "stderr",
     "output_type": "stream",
     "text": [
      "100%|██████████| 46/46 [00:01<00:00, 34.39it/s]\n"
     ]
    },
    {
     "name": "stdout",
     "output_type": "stream",
     "text": [
      "Epoch: 012, Train Loss: 0.0941\n"
     ]
    },
    {
     "name": "stderr",
     "output_type": "stream",
     "text": [
      "100%|██████████| 46/46 [00:01<00:00, 31.12it/s]\n"
     ]
    },
    {
     "name": "stdout",
     "output_type": "stream",
     "text": [
      "Epoch: 013, Train Loss: 0.0842\n"
     ]
    },
    {
     "name": "stderr",
     "output_type": "stream",
     "text": [
      "100%|██████████| 46/46 [00:01<00:00, 30.83it/s]\n"
     ]
    },
    {
     "name": "stdout",
     "output_type": "stream",
     "text": [
      "Epoch: 014, Train Loss: 0.0309\n"
     ]
    },
    {
     "name": "stderr",
     "output_type": "stream",
     "text": [
      "100%|██████████| 12/12 [00:00<00:00, 18.36it/s]\n"
     ]
    },
    {
     "name": "stdout",
     "output_type": "stream",
     "text": [
      "\n",
      " Confusion matrix: \n",
      " [[ 15  32]\n",
      " [  1 134]]\n",
      "F1 Score: 0.8903654485049833\n",
      "Accuracy: 0.8186813186813187\n",
      "Precision: 0.8072289156626506\n",
      "Recall: 0.9925925925925926\n",
      "ROC AUC: 0.6558707643814027\n",
      "Epoch: 014, Test Loss: 1.0759\n",
      "Fold 2\n"
     ]
    },
    {
     "name": "stderr",
     "output_type": "stream",
     "text": [
      "100%|██████████| 46/46 [00:01<00:00, 29.19it/s]\n"
     ]
    },
    {
     "name": "stdout",
     "output_type": "stream",
     "text": [
      "Epoch: 000, Train Loss: 1.1654\n"
     ]
    },
    {
     "name": "stderr",
     "output_type": "stream",
     "text": [
      "100%|██████████| 46/46 [00:01<00:00, 27.02it/s]\n"
     ]
    },
    {
     "name": "stdout",
     "output_type": "stream",
     "text": [
      "Epoch: 001, Train Loss: 0.4347\n"
     ]
    },
    {
     "name": "stderr",
     "output_type": "stream",
     "text": [
      "100%|██████████| 46/46 [00:01<00:00, 23.27it/s]\n"
     ]
    },
    {
     "name": "stdout",
     "output_type": "stream",
     "text": [
      "Epoch: 002, Train Loss: 0.4429\n"
     ]
    },
    {
     "name": "stderr",
     "output_type": "stream",
     "text": [
      "100%|██████████| 46/46 [00:01<00:00, 25.38it/s]\n"
     ]
    },
    {
     "name": "stdout",
     "output_type": "stream",
     "text": [
      "Epoch: 003, Train Loss: 0.4408\n"
     ]
    },
    {
     "name": "stderr",
     "output_type": "stream",
     "text": [
      "100%|██████████| 46/46 [00:01<00:00, 24.07it/s]\n"
     ]
    },
    {
     "name": "stdout",
     "output_type": "stream",
     "text": [
      "Epoch: 004, Train Loss: 0.3452\n"
     ]
    },
    {
     "name": "stderr",
     "output_type": "stream",
     "text": [
      "100%|██████████| 46/46 [00:01<00:00, 32.29it/s]\n"
     ]
    },
    {
     "name": "stdout",
     "output_type": "stream",
     "text": [
      "Epoch: 005, Train Loss: 0.3471\n"
     ]
    },
    {
     "name": "stderr",
     "output_type": "stream",
     "text": [
      "100%|██████████| 46/46 [00:01<00:00, 26.38it/s]\n"
     ]
    },
    {
     "name": "stdout",
     "output_type": "stream",
     "text": [
      "Epoch: 006, Train Loss: 0.2124\n"
     ]
    },
    {
     "name": "stderr",
     "output_type": "stream",
     "text": [
      "100%|██████████| 46/46 [00:01<00:00, 26.08it/s]\n"
     ]
    },
    {
     "name": "stdout",
     "output_type": "stream",
     "text": [
      "Epoch: 007, Train Loss: 0.2495\n"
     ]
    },
    {
     "name": "stderr",
     "output_type": "stream",
     "text": [
      "100%|██████████| 46/46 [00:01<00:00, 32.82it/s]\n"
     ]
    },
    {
     "name": "stdout",
     "output_type": "stream",
     "text": [
      "Epoch: 008, Train Loss: 0.1586\n"
     ]
    },
    {
     "name": "stderr",
     "output_type": "stream",
     "text": [
      "100%|██████████| 46/46 [00:01<00:00, 29.90it/s]\n"
     ]
    },
    {
     "name": "stdout",
     "output_type": "stream",
     "text": [
      "Epoch: 009, Train Loss: 0.1616\n"
     ]
    },
    {
     "name": "stderr",
     "output_type": "stream",
     "text": [
      "100%|██████████| 46/46 [00:01<00:00, 27.10it/s]\n"
     ]
    },
    {
     "name": "stdout",
     "output_type": "stream",
     "text": [
      "Epoch: 010, Train Loss: 0.2282\n"
     ]
    },
    {
     "name": "stderr",
     "output_type": "stream",
     "text": [
      "100%|██████████| 46/46 [00:01<00:00, 29.67it/s]\n"
     ]
    },
    {
     "name": "stdout",
     "output_type": "stream",
     "text": [
      "Epoch: 011, Train Loss: 0.0647\n"
     ]
    },
    {
     "name": "stderr",
     "output_type": "stream",
     "text": [
      "100%|██████████| 46/46 [00:01<00:00, 31.82it/s]\n"
     ]
    },
    {
     "name": "stdout",
     "output_type": "stream",
     "text": [
      "Epoch: 012, Train Loss: 0.0491\n"
     ]
    },
    {
     "name": "stderr",
     "output_type": "stream",
     "text": [
      "100%|██████████| 46/46 [00:01<00:00, 32.72it/s]\n"
     ]
    },
    {
     "name": "stdout",
     "output_type": "stream",
     "text": [
      "Epoch: 013, Train Loss: 0.2275\n"
     ]
    },
    {
     "name": "stderr",
     "output_type": "stream",
     "text": [
      "100%|██████████| 46/46 [00:01<00:00, 30.63it/s]\n"
     ]
    },
    {
     "name": "stdout",
     "output_type": "stream",
     "text": [
      "Epoch: 014, Train Loss: 0.0556\n"
     ]
    },
    {
     "name": "stderr",
     "output_type": "stream",
     "text": [
      "100%|██████████| 12/12 [00:00<00:00, 15.33it/s]\n"
     ]
    },
    {
     "name": "stdout",
     "output_type": "stream",
     "text": [
      "\n",
      " Confusion matrix: \n",
      " [[ 27  17]\n",
      " [ 22 116]]\n",
      "F1 Score: 0.8560885608856088\n",
      "Accuracy: 0.7857142857142857\n",
      "Precision: 0.8721804511278195\n",
      "Recall: 0.8405797101449275\n",
      "ROC AUC: 0.7271080368906456\n",
      "Epoch: 014, Test Loss: 0.8016\n",
      "Fold 3\n"
     ]
    },
    {
     "name": "stderr",
     "output_type": "stream",
     "text": [
      "100%|██████████| 46/46 [00:01<00:00, 29.10it/s]\n"
     ]
    },
    {
     "name": "stdout",
     "output_type": "stream",
     "text": [
      "Epoch: 000, Train Loss: 0.8934\n"
     ]
    },
    {
     "name": "stderr",
     "output_type": "stream",
     "text": [
      "100%|██████████| 46/46 [00:01<00:00, 24.94it/s]\n"
     ]
    },
    {
     "name": "stdout",
     "output_type": "stream",
     "text": [
      "Epoch: 001, Train Loss: 0.4515\n"
     ]
    },
    {
     "name": "stderr",
     "output_type": "stream",
     "text": [
      "100%|██████████| 46/46 [00:01<00:00, 28.67it/s]\n"
     ]
    },
    {
     "name": "stdout",
     "output_type": "stream",
     "text": [
      "Epoch: 002, Train Loss: 0.4305\n"
     ]
    },
    {
     "name": "stderr",
     "output_type": "stream",
     "text": [
      "100%|██████████| 46/46 [00:01<00:00, 29.15it/s]\n"
     ]
    },
    {
     "name": "stdout",
     "output_type": "stream",
     "text": [
      "Epoch: 003, Train Loss: 0.3843\n"
     ]
    },
    {
     "name": "stderr",
     "output_type": "stream",
     "text": [
      "100%|██████████| 46/46 [00:01<00:00, 27.43it/s]\n"
     ]
    },
    {
     "name": "stdout",
     "output_type": "stream",
     "text": [
      "Epoch: 004, Train Loss: 0.2910\n"
     ]
    },
    {
     "name": "stderr",
     "output_type": "stream",
     "text": [
      "100%|██████████| 46/46 [00:01<00:00, 31.84it/s]\n"
     ]
    },
    {
     "name": "stdout",
     "output_type": "stream",
     "text": [
      "Epoch: 005, Train Loss: 0.2865\n"
     ]
    },
    {
     "name": "stderr",
     "output_type": "stream",
     "text": [
      "100%|██████████| 46/46 [00:01<00:00, 26.05it/s]\n"
     ]
    },
    {
     "name": "stdout",
     "output_type": "stream",
     "text": [
      "Epoch: 006, Train Loss: 0.2339\n"
     ]
    },
    {
     "name": "stderr",
     "output_type": "stream",
     "text": [
      "100%|██████████| 46/46 [00:01<00:00, 27.82it/s]\n"
     ]
    },
    {
     "name": "stdout",
     "output_type": "stream",
     "text": [
      "Epoch: 007, Train Loss: 0.1741\n"
     ]
    },
    {
     "name": "stderr",
     "output_type": "stream",
     "text": [
      "100%|██████████| 46/46 [00:01<00:00, 26.90it/s]\n"
     ]
    },
    {
     "name": "stdout",
     "output_type": "stream",
     "text": [
      "Epoch: 008, Train Loss: 0.1894\n"
     ]
    },
    {
     "name": "stderr",
     "output_type": "stream",
     "text": [
      "100%|██████████| 46/46 [00:01<00:00, 30.94it/s]\n"
     ]
    },
    {
     "name": "stdout",
     "output_type": "stream",
     "text": [
      "Epoch: 009, Train Loss: 0.1293\n"
     ]
    },
    {
     "name": "stderr",
     "output_type": "stream",
     "text": [
      "100%|██████████| 46/46 [00:01<00:00, 30.04it/s]\n"
     ]
    },
    {
     "name": "stdout",
     "output_type": "stream",
     "text": [
      "Epoch: 010, Train Loss: 0.2195\n"
     ]
    },
    {
     "name": "stderr",
     "output_type": "stream",
     "text": [
      "100%|██████████| 46/46 [00:01<00:00, 31.72it/s]\n"
     ]
    },
    {
     "name": "stdout",
     "output_type": "stream",
     "text": [
      "Epoch: 011, Train Loss: 0.0617\n"
     ]
    },
    {
     "name": "stderr",
     "output_type": "stream",
     "text": [
      "100%|██████████| 46/46 [00:01<00:00, 35.22it/s]\n"
     ]
    },
    {
     "name": "stdout",
     "output_type": "stream",
     "text": [
      "Epoch: 012, Train Loss: 0.0653\n"
     ]
    },
    {
     "name": "stderr",
     "output_type": "stream",
     "text": [
      "100%|██████████| 46/46 [00:01<00:00, 34.43it/s]\n"
     ]
    },
    {
     "name": "stdout",
     "output_type": "stream",
     "text": [
      "Epoch: 013, Train Loss: 0.1628\n"
     ]
    },
    {
     "name": "stderr",
     "output_type": "stream",
     "text": [
      "100%|██████████| 46/46 [00:01<00:00, 28.95it/s]\n"
     ]
    },
    {
     "name": "stdout",
     "output_type": "stream",
     "text": [
      "Epoch: 014, Train Loss: 0.0578\n"
     ]
    },
    {
     "name": "stderr",
     "output_type": "stream",
     "text": [
      "100%|██████████| 12/12 [00:00<00:00, 22.36it/s]\n"
     ]
    },
    {
     "name": "stdout",
     "output_type": "stream",
     "text": [
      "\n",
      " Confusion matrix: \n",
      " [[ 17  24]\n",
      " [ 12 129]]\n",
      "F1 Score: 0.8775510204081632\n",
      "Accuracy: 0.8021978021978022\n",
      "Precision: 0.8431372549019608\n",
      "Recall: 0.9148936170212766\n",
      "ROC AUC: 0.66476388168137\n",
      "Epoch: 014, Test Loss: 0.9159\n",
      "Fold 4\n"
     ]
    },
    {
     "name": "stderr",
     "output_type": "stream",
     "text": [
      "100%|██████████| 46/46 [00:01<00:00, 34.16it/s]\n"
     ]
    },
    {
     "name": "stdout",
     "output_type": "stream",
     "text": [
      "Epoch: 000, Train Loss: 1.3426\n"
     ]
    },
    {
     "name": "stderr",
     "output_type": "stream",
     "text": [
      "100%|██████████| 46/46 [00:01<00:00, 23.23it/s]\n"
     ]
    },
    {
     "name": "stdout",
     "output_type": "stream",
     "text": [
      "Epoch: 001, Train Loss: 0.5037\n"
     ]
    },
    {
     "name": "stderr",
     "output_type": "stream",
     "text": [
      "100%|██████████| 46/46 [00:01<00:00, 27.84it/s]\n"
     ]
    },
    {
     "name": "stdout",
     "output_type": "stream",
     "text": [
      "Epoch: 002, Train Loss: 0.4390\n"
     ]
    },
    {
     "name": "stderr",
     "output_type": "stream",
     "text": [
      "100%|██████████| 46/46 [00:02<00:00, 22.70it/s]\n"
     ]
    },
    {
     "name": "stdout",
     "output_type": "stream",
     "text": [
      "Epoch: 003, Train Loss: 0.4119\n"
     ]
    },
    {
     "name": "stderr",
     "output_type": "stream",
     "text": [
      "100%|██████████| 46/46 [00:01<00:00, 31.15it/s]\n"
     ]
    },
    {
     "name": "stdout",
     "output_type": "stream",
     "text": [
      "Epoch: 004, Train Loss: 0.4319\n"
     ]
    },
    {
     "name": "stderr",
     "output_type": "stream",
     "text": [
      "100%|██████████| 46/46 [00:01<00:00, 29.18it/s]\n"
     ]
    },
    {
     "name": "stdout",
     "output_type": "stream",
     "text": [
      "Epoch: 005, Train Loss: 0.3798\n"
     ]
    },
    {
     "name": "stderr",
     "output_type": "stream",
     "text": [
      "100%|██████████| 46/46 [00:01<00:00, 30.66it/s]\n"
     ]
    },
    {
     "name": "stdout",
     "output_type": "stream",
     "text": [
      "Epoch: 006, Train Loss: 0.3770\n"
     ]
    },
    {
     "name": "stderr",
     "output_type": "stream",
     "text": [
      "100%|██████████| 46/46 [00:01<00:00, 24.92it/s]\n"
     ]
    },
    {
     "name": "stdout",
     "output_type": "stream",
     "text": [
      "Epoch: 007, Train Loss: 0.2964\n"
     ]
    },
    {
     "name": "stderr",
     "output_type": "stream",
     "text": [
      "100%|██████████| 46/46 [00:01<00:00, 35.17it/s]\n"
     ]
    },
    {
     "name": "stdout",
     "output_type": "stream",
     "text": [
      "Epoch: 008, Train Loss: 0.2614\n"
     ]
    },
    {
     "name": "stderr",
     "output_type": "stream",
     "text": [
      "100%|██████████| 46/46 [00:02<00:00, 22.43it/s]\n"
     ]
    },
    {
     "name": "stdout",
     "output_type": "stream",
     "text": [
      "Epoch: 009, Train Loss: 0.1723\n"
     ]
    },
    {
     "name": "stderr",
     "output_type": "stream",
     "text": [
      "100%|██████████| 46/46 [00:01<00:00, 26.05it/s]\n"
     ]
    },
    {
     "name": "stdout",
     "output_type": "stream",
     "text": [
      "Epoch: 010, Train Loss: 0.2342\n"
     ]
    },
    {
     "name": "stderr",
     "output_type": "stream",
     "text": [
      "100%|██████████| 46/46 [00:01<00:00, 34.59it/s]\n"
     ]
    },
    {
     "name": "stdout",
     "output_type": "stream",
     "text": [
      "Epoch: 011, Train Loss: 0.1150\n"
     ]
    },
    {
     "name": "stderr",
     "output_type": "stream",
     "text": [
      "100%|██████████| 46/46 [00:01<00:00, 30.40it/s]\n"
     ]
    },
    {
     "name": "stdout",
     "output_type": "stream",
     "text": [
      "Epoch: 012, Train Loss: 0.0684\n"
     ]
    },
    {
     "name": "stderr",
     "output_type": "stream",
     "text": [
      "100%|██████████| 46/46 [00:01<00:00, 28.56it/s]\n"
     ]
    },
    {
     "name": "stdout",
     "output_type": "stream",
     "text": [
      "Epoch: 013, Train Loss: 0.1840\n"
     ]
    },
    {
     "name": "stderr",
     "output_type": "stream",
     "text": [
      "100%|██████████| 46/46 [00:01<00:00, 33.58it/s]\n"
     ]
    },
    {
     "name": "stdout",
     "output_type": "stream",
     "text": [
      "Epoch: 014, Train Loss: 0.1482\n"
     ]
    },
    {
     "name": "stderr",
     "output_type": "stream",
     "text": [
      "100%|██████████| 12/12 [00:00<00:00, 23.03it/s]\n"
     ]
    },
    {
     "name": "stdout",
     "output_type": "stream",
     "text": [
      "\n",
      " Confusion matrix: \n",
      " [[ 22  21]\n",
      " [  5 134]]\n",
      "F1 Score: 0.91156462585034\n",
      "Accuracy: 0.8571428571428571\n",
      "Precision: 0.864516129032258\n",
      "Recall: 0.9640287769784173\n",
      "ROC AUC: 0.7378283419775807\n",
      "Epoch: 014, Test Loss: 0.4493\n",
      "Fold 5\n"
     ]
    },
    {
     "name": "stderr",
     "output_type": "stream",
     "text": [
      "100%|██████████| 46/46 [00:01<00:00, 40.69it/s]\n"
     ]
    },
    {
     "name": "stdout",
     "output_type": "stream",
     "text": [
      "Epoch: 000, Train Loss: 0.8783\n"
     ]
    },
    {
     "name": "stderr",
     "output_type": "stream",
     "text": [
      "100%|██████████| 46/46 [00:01<00:00, 24.46it/s]\n"
     ]
    },
    {
     "name": "stdout",
     "output_type": "stream",
     "text": [
      "Epoch: 001, Train Loss: 0.4434\n"
     ]
    },
    {
     "name": "stderr",
     "output_type": "stream",
     "text": [
      "100%|██████████| 46/46 [00:01<00:00, 30.20it/s]\n"
     ]
    },
    {
     "name": "stdout",
     "output_type": "stream",
     "text": [
      "Epoch: 002, Train Loss: 0.4471\n"
     ]
    },
    {
     "name": "stderr",
     "output_type": "stream",
     "text": [
      "100%|██████████| 46/46 [00:01<00:00, 35.22it/s]\n"
     ]
    },
    {
     "name": "stdout",
     "output_type": "stream",
     "text": [
      "Epoch: 003, Train Loss: 0.3919\n"
     ]
    },
    {
     "name": "stderr",
     "output_type": "stream",
     "text": [
      "100%|██████████| 46/46 [00:01<00:00, 28.33it/s]\n"
     ]
    },
    {
     "name": "stdout",
     "output_type": "stream",
     "text": [
      "Epoch: 004, Train Loss: 0.3843\n"
     ]
    },
    {
     "name": "stderr",
     "output_type": "stream",
     "text": [
      "100%|██████████| 46/46 [00:01<00:00, 28.75it/s]\n"
     ]
    },
    {
     "name": "stdout",
     "output_type": "stream",
     "text": [
      "Epoch: 005, Train Loss: 0.3111\n"
     ]
    },
    {
     "name": "stderr",
     "output_type": "stream",
     "text": [
      "100%|██████████| 46/46 [00:01<00:00, 37.88it/s]\n"
     ]
    },
    {
     "name": "stdout",
     "output_type": "stream",
     "text": [
      "Epoch: 006, Train Loss: 0.3643\n"
     ]
    },
    {
     "name": "stderr",
     "output_type": "stream",
     "text": [
      "100%|██████████| 46/46 [00:01<00:00, 31.59it/s]\n"
     ]
    },
    {
     "name": "stdout",
     "output_type": "stream",
     "text": [
      "Epoch: 007, Train Loss: 0.2324\n"
     ]
    },
    {
     "name": "stderr",
     "output_type": "stream",
     "text": [
      "100%|██████████| 46/46 [00:01<00:00, 26.98it/s]\n"
     ]
    },
    {
     "name": "stdout",
     "output_type": "stream",
     "text": [
      "Epoch: 008, Train Loss: 0.1974\n"
     ]
    },
    {
     "name": "stderr",
     "output_type": "stream",
     "text": [
      "100%|██████████| 46/46 [00:01<00:00, 32.43it/s]\n"
     ]
    },
    {
     "name": "stdout",
     "output_type": "stream",
     "text": [
      "Epoch: 009, Train Loss: 0.1699\n"
     ]
    },
    {
     "name": "stderr",
     "output_type": "stream",
     "text": [
      "100%|██████████| 46/46 [00:01<00:00, 31.36it/s]\n"
     ]
    },
    {
     "name": "stdout",
     "output_type": "stream",
     "text": [
      "Epoch: 010, Train Loss: 0.1822\n"
     ]
    },
    {
     "name": "stderr",
     "output_type": "stream",
     "text": [
      "100%|██████████| 46/46 [00:01<00:00, 31.84it/s]\n"
     ]
    },
    {
     "name": "stdout",
     "output_type": "stream",
     "text": [
      "Epoch: 011, Train Loss: 0.1609\n"
     ]
    },
    {
     "name": "stderr",
     "output_type": "stream",
     "text": [
      "100%|██████████| 46/46 [00:01<00:00, 23.61it/s]\n"
     ]
    },
    {
     "name": "stdout",
     "output_type": "stream",
     "text": [
      "Epoch: 012, Train Loss: 0.0567\n"
     ]
    },
    {
     "name": "stderr",
     "output_type": "stream",
     "text": [
      "100%|██████████| 46/46 [00:01<00:00, 25.51it/s]\n"
     ]
    },
    {
     "name": "stdout",
     "output_type": "stream",
     "text": [
      "Epoch: 013, Train Loss: 0.0883\n"
     ]
    },
    {
     "name": "stderr",
     "output_type": "stream",
     "text": [
      "100%|██████████| 46/46 [00:01<00:00, 31.42it/s]\n"
     ]
    },
    {
     "name": "stdout",
     "output_type": "stream",
     "text": [
      "Epoch: 014, Train Loss: 0.0764\n"
     ]
    },
    {
     "name": "stderr",
     "output_type": "stream",
     "text": [
      "100%|██████████| 12/12 [00:00<00:00, 19.79it/s]"
     ]
    },
    {
     "name": "stdout",
     "output_type": "stream",
     "text": [
      "\n",
      " Confusion matrix: \n",
      " [[ 28  18]\n",
      " [ 26 110]]\n",
      "F1 Score: 0.8333333333333333\n",
      "Accuracy: 0.7582417582417582\n",
      "Precision: 0.859375\n",
      "Recall: 0.8088235294117647\n",
      "ROC AUC: 0.7087595907928389\n",
      "Epoch: 014, Test Loss: 0.6983\n"
     ]
    },
    {
     "name": "stderr",
     "output_type": "stream",
     "text": [
      "\n"
     ]
    }
   ],
   "source": [
    "for fold, (train_idx,val_idx) in enumerate(splits.split(np.arange(len(exp)))):\n",
    "\n",
    "    print('Fold {}'.format(fold + 1))\n",
    "    \n",
    "    train_sampler = SubsetRandomSampler(train_idx)\n",
    "    test_sampler = SubsetRandomSampler(val_idx)\n",
    "    train_loader = DataLoader(dt, batch_size=16, sampler=train_sampler, num_workers = 12)\n",
    "    test_loader = DataLoader(dt, batch_size=16, sampler=test_sampler, num_workers = 12)\n",
    "    \n",
    "    model = Net().to(device)\n",
    "    optimizer = torch.optim.Adam(model.parameters(), lr=0.001)\n",
    "    \n",
    "    for epoch in range(15):\n",
    "        loss_train = train()\n",
    "        print(f\"Epoch: {epoch:03d}, Train Loss: {loss_train:.4f}\")\n",
    "        \n",
    "    loss_test, test_pre = test()\n",
    "    print(f\"Epoch: {epoch:03d}, Test Loss: {loss_test:.4f}\")\n",
    "    test_pre.to_csv(\"/home/data/sdb/wt/model_data/cv_fold_\"+str(fold)+\"_media.csv\")"
   ]
  },
  {
   "cell_type": "code",
   "execution_count": null,
   "id": "388fb9b1-fb8e-4dfc-9541-8881c53150e0",
   "metadata": {},
   "outputs": [],
   "source": []
  }
 ],
 "metadata": {
  "kernelspec": {
   "display_name": "dl",
   "language": "python",
   "name": "dl"
  },
  "language_info": {
   "codemirror_mode": {
    "name": "ipython",
    "version": 3
   },
   "file_extension": ".py",
   "mimetype": "text/x-python",
   "name": "python",
   "nbconvert_exporter": "python",
   "pygments_lexer": "ipython3",
   "version": "3.9.18"
  }
 },
 "nbformat": 4,
 "nbformat_minor": 5
}
