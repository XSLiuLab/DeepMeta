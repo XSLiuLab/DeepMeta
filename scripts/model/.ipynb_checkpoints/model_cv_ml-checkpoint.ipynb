{
 "cells": [
  {
   "cell_type": "code",
   "execution_count": 1,
   "id": "9412df10-e740-4e69-a188-e3588e06d745",
   "metadata": {},
   "outputs": [],
   "source": [
    "# Data processing\n",
    "import pandas as pd\n",
    "import numpy as np\n",
    "# Standardize the data\n",
    "from sklearn.preprocessing import StandardScaler\n",
    "# Modeling \n",
    "from sklearn.model_selection import train_test_split\n",
    "from sklearn.svm import SVC\n",
    "from sklearn.linear_model import SGDClassifier\n",
    "# Hyperparameter tuning\n",
    "from sklearn.model_selection import StratifiedKFold, GridSearchCV, RandomizedSearchCV, cross_val_score\n",
    "from hyperopt import tpe, STATUS_OK, Trials, hp, fmin, STATUS_OK, space_eval\n",
    "from sklearn.decomposition import PCA"
   ]
  },
  {
   "cell_type": "code",
   "execution_count": 2,
   "id": "9058dc12-a543-4b48-895e-3b6d4142bb92",
   "metadata": {},
   "outputs": [],
   "source": [
    "train_dt = pd.read_csv(\"/home/wt/meta_target/data/train_dtV2.csv\")\n",
    "dt = pd.read_csv(\"/home/data/sdc/wt/model_data/ml_input_pca.csv\")"
   ]
  },
  {
   "cell_type": "code",
   "execution_count": 4,
   "id": "dbed35b3-d219-4ac1-ab83-4f3552d2fe92",
   "metadata": {
    "tags": []
   },
   "outputs": [],
   "source": [
    "cell_exp = pd.read_csv(\"/home/data/sdb/wt/model_data/cell_gene_exp_vs_normal_filter.csv\")\n",
    "gene_pc = pd.read_csv(\"/home/wt/meta_target/data/gene_pca.csv\")"
   ]
  },
  {
   "cell_type": "code",
   "execution_count": 5,
   "id": "48ad7e6a-8dc9-4213-b464-42b5c90b8761",
   "metadata": {
    "tags": []
   },
   "outputs": [],
   "source": [
    "gene_feat = pd.read_csv(\"/home/wt/meta_target/data/all_train_gene_cpg.csv\")"
   ]
  },
  {
   "cell_type": "code",
   "execution_count": 6,
   "id": "5c10ba26-df5d-4143-89e6-b0b1fee7cbf8",
   "metadata": {
    "tags": []
   },
   "outputs": [],
   "source": [
    "sample_info = pd.read_csv(\"/home/data/sdc/wt/model_data/new_model/cell_net_filter_exp/raw/train_cell_info.csv\")"
   ]
  },
  {
   "cell_type": "code",
   "execution_count": 7,
   "id": "c48b2107-e825-417c-8361-85972e0ba0db",
   "metadata": {},
   "outputs": [],
   "source": [
    "X_train = dt.drop(columns=[\"is_dep\",\"cell\",\"gene\"])\n",
    "y_train = dt.is_dep"
   ]
  },
  {
   "cell_type": "code",
   "execution_count": 8,
   "id": "d4eb5bff-a8c6-40cb-ae6a-f36a3b41e837",
   "metadata": {},
   "outputs": [],
   "source": [
    "# Initiate scaler\n",
    "sc = StandardScaler()\n",
    "# Standardize the training dataset\n",
    "X_train_transformed = pd.DataFrame(sc.fit_transform(X_train),index=X_train.index, columns=X_train.columns)"
   ]
  },
  {
   "cell_type": "code",
   "execution_count": 9,
   "id": "5bfec2c4-dd6b-41d3-8c92-bd1b789e9db2",
   "metadata": {
    "tags": []
   },
   "outputs": [],
   "source": [
    "###逻辑回归\n",
    "clf = SGDClassifier(loss=\"log_loss\", penalty=\"elasticnet\", fit_intercept=True, early_stopping=True,n_iter_no_change=100)\n",
    "\n",
    "# use a full grid over all parameters\n",
    "param_grid = {\n",
    "    'max_iter': [500,1000,2000,3000,4000,5000],\n",
    "    'learning_rate': ['optimal', 'invscaling', 'adaptive']\n",
    "}\n",
    "\n",
    "# run grid search\n",
    "grid_search = GridSearchCV(clf, param_grid=param_grid, n_jobs = 30, scoring=\"f1\")"
   ]
  },
  {
   "cell_type": "code",
   "execution_count": 14,
   "id": "62230a27-0e97-4d1e-92c5-6ebd9cbbceda",
   "metadata": {
    "tags": []
   },
   "outputs": [
    {
     "name": "stderr",
     "output_type": "stream",
     "text": [
      "/home/wt/miniconda3/envs/dl/lib/python3.9/site-packages/sklearn/model_selection/_validation.py:378: FitFailedWarning: \n",
      "60 fits failed out of a total of 90.\n",
      "The score on these train-test partitions for these parameters will be set to nan.\n",
      "If these failures are not expected, you can try to debug them by setting error_score='raise'.\n",
      "\n",
      "Below are more details about the failures:\n",
      "--------------------------------------------------------------------------------\n",
      "60 fits failed with the following error:\n",
      "Traceback (most recent call last):\n",
      "  File \"/home/wt/miniconda3/envs/dl/lib/python3.9/site-packages/sklearn/model_selection/_validation.py\", line 686, in _fit_and_score\n",
      "    estimator.fit(X_train, y_train, **fit_params)\n",
      "  File \"/home/wt/miniconda3/envs/dl/lib/python3.9/site-packages/sklearn/linear_model/_stochastic_gradient.py\", line 892, in fit\n",
      "    self._more_validate_params()\n",
      "  File \"/home/wt/miniconda3/envs/dl/lib/python3.9/site-packages/sklearn/linear_model/_stochastic_gradient.py\", line 149, in _more_validate_params\n",
      "    raise ValueError(\"eta0 must be > 0\")\n",
      "ValueError: eta0 must be > 0\n",
      "\n",
      "  warnings.warn(some_fits_failed_message, FitFailedWarning)\n",
      "/home/wt/miniconda3/envs/dl/lib/python3.9/site-packages/sklearn/model_selection/_search.py:952: UserWarning: One or more of the test scores are non-finite: [0.40560729 0.40910898 0.40314829 0.40473903 0.40453043 0.40279213\n",
      "        nan        nan        nan        nan        nan        nan\n",
      "        nan        nan        nan        nan        nan        nan]\n",
      "  warnings.warn(\n"
     ]
    },
    {
     "data": {
      "text/html": [
       "<style>#sk-container-id-1 {color: black;background-color: white;}#sk-container-id-1 pre{padding: 0;}#sk-container-id-1 div.sk-toggleable {background-color: white;}#sk-container-id-1 label.sk-toggleable__label {cursor: pointer;display: block;width: 100%;margin-bottom: 0;padding: 0.3em;box-sizing: border-box;text-align: center;}#sk-container-id-1 label.sk-toggleable__label-arrow:before {content: \"▸\";float: left;margin-right: 0.25em;color: #696969;}#sk-container-id-1 label.sk-toggleable__label-arrow:hover:before {color: black;}#sk-container-id-1 div.sk-estimator:hover label.sk-toggleable__label-arrow:before {color: black;}#sk-container-id-1 div.sk-toggleable__content {max-height: 0;max-width: 0;overflow: hidden;text-align: left;background-color: #f0f8ff;}#sk-container-id-1 div.sk-toggleable__content pre {margin: 0.2em;color: black;border-radius: 0.25em;background-color: #f0f8ff;}#sk-container-id-1 input.sk-toggleable__control:checked~div.sk-toggleable__content {max-height: 200px;max-width: 100%;overflow: auto;}#sk-container-id-1 input.sk-toggleable__control:checked~label.sk-toggleable__label-arrow:before {content: \"▾\";}#sk-container-id-1 div.sk-estimator input.sk-toggleable__control:checked~label.sk-toggleable__label {background-color: #d4ebff;}#sk-container-id-1 div.sk-label input.sk-toggleable__control:checked~label.sk-toggleable__label {background-color: #d4ebff;}#sk-container-id-1 input.sk-hidden--visually {border: 0;clip: rect(1px 1px 1px 1px);clip: rect(1px, 1px, 1px, 1px);height: 1px;margin: -1px;overflow: hidden;padding: 0;position: absolute;width: 1px;}#sk-container-id-1 div.sk-estimator {font-family: monospace;background-color: #f0f8ff;border: 1px dotted black;border-radius: 0.25em;box-sizing: border-box;margin-bottom: 0.5em;}#sk-container-id-1 div.sk-estimator:hover {background-color: #d4ebff;}#sk-container-id-1 div.sk-parallel-item::after {content: \"\";width: 100%;border-bottom: 1px solid gray;flex-grow: 1;}#sk-container-id-1 div.sk-label:hover label.sk-toggleable__label {background-color: #d4ebff;}#sk-container-id-1 div.sk-serial::before {content: \"\";position: absolute;border-left: 1px solid gray;box-sizing: border-box;top: 0;bottom: 0;left: 50%;z-index: 0;}#sk-container-id-1 div.sk-serial {display: flex;flex-direction: column;align-items: center;background-color: white;padding-right: 0.2em;padding-left: 0.2em;position: relative;}#sk-container-id-1 div.sk-item {position: relative;z-index: 1;}#sk-container-id-1 div.sk-parallel {display: flex;align-items: stretch;justify-content: center;background-color: white;position: relative;}#sk-container-id-1 div.sk-item::before, #sk-container-id-1 div.sk-parallel-item::before {content: \"\";position: absolute;border-left: 1px solid gray;box-sizing: border-box;top: 0;bottom: 0;left: 50%;z-index: -1;}#sk-container-id-1 div.sk-parallel-item {display: flex;flex-direction: column;z-index: 1;position: relative;background-color: white;}#sk-container-id-1 div.sk-parallel-item:first-child::after {align-self: flex-end;width: 50%;}#sk-container-id-1 div.sk-parallel-item:last-child::after {align-self: flex-start;width: 50%;}#sk-container-id-1 div.sk-parallel-item:only-child::after {width: 0;}#sk-container-id-1 div.sk-dashed-wrapped {border: 1px dashed gray;margin: 0 0.4em 0.5em 0.4em;box-sizing: border-box;padding-bottom: 0.4em;background-color: white;}#sk-container-id-1 div.sk-label label {font-family: monospace;font-weight: bold;display: inline-block;line-height: 1.2em;}#sk-container-id-1 div.sk-label-container {text-align: center;}#sk-container-id-1 div.sk-container {/* jupyter's `normalize.less` sets `[hidden] { display: none; }` but bootstrap.min.css set `[hidden] { display: none !important; }` so we also need the `!important` here to be able to override the default hidden behavior on the sphinx rendered scikit-learn.org. See: https://github.com/scikit-learn/scikit-learn/issues/21755 */display: inline-block !important;position: relative;}#sk-container-id-1 div.sk-text-repr-fallback {display: none;}</style><div id=\"sk-container-id-1\" class=\"sk-top-container\"><div class=\"sk-text-repr-fallback\"><pre>GridSearchCV(estimator=SGDClassifier(early_stopping=True, loss=&#x27;log_loss&#x27;,\n",
       "                                     n_iter_no_change=100,\n",
       "                                     penalty=&#x27;elasticnet&#x27;),\n",
       "             n_jobs=30,\n",
       "             param_grid={&#x27;learning_rate&#x27;: [&#x27;optimal&#x27;, &#x27;invscaling&#x27;, &#x27;adaptive&#x27;],\n",
       "                         &#x27;max_iter&#x27;: [500, 1000, 2000, 3000, 4000, 5000]},\n",
       "             scoring=&#x27;f1&#x27;)</pre><b>In a Jupyter environment, please rerun this cell to show the HTML representation or trust the notebook. <br />On GitHub, the HTML representation is unable to render, please try loading this page with nbviewer.org.</b></div><div class=\"sk-container\" hidden><div class=\"sk-item sk-dashed-wrapped\"><div class=\"sk-label-container\"><div class=\"sk-label sk-toggleable\"><input class=\"sk-toggleable__control sk-hidden--visually\" id=\"sk-estimator-id-1\" type=\"checkbox\" ><label for=\"sk-estimator-id-1\" class=\"sk-toggleable__label sk-toggleable__label-arrow\">GridSearchCV</label><div class=\"sk-toggleable__content\"><pre>GridSearchCV(estimator=SGDClassifier(early_stopping=True, loss=&#x27;log_loss&#x27;,\n",
       "                                     n_iter_no_change=100,\n",
       "                                     penalty=&#x27;elasticnet&#x27;),\n",
       "             n_jobs=30,\n",
       "             param_grid={&#x27;learning_rate&#x27;: [&#x27;optimal&#x27;, &#x27;invscaling&#x27;, &#x27;adaptive&#x27;],\n",
       "                         &#x27;max_iter&#x27;: [500, 1000, 2000, 3000, 4000, 5000]},\n",
       "             scoring=&#x27;f1&#x27;)</pre></div></div></div><div class=\"sk-parallel\"><div class=\"sk-parallel-item\"><div class=\"sk-item\"><div class=\"sk-label-container\"><div class=\"sk-label sk-toggleable\"><input class=\"sk-toggleable__control sk-hidden--visually\" id=\"sk-estimator-id-2\" type=\"checkbox\" ><label for=\"sk-estimator-id-2\" class=\"sk-toggleable__label sk-toggleable__label-arrow\">estimator: SGDClassifier</label><div class=\"sk-toggleable__content\"><pre>SGDClassifier(early_stopping=True, loss=&#x27;log_loss&#x27;, n_iter_no_change=100,\n",
       "              penalty=&#x27;elasticnet&#x27;)</pre></div></div></div><div class=\"sk-serial\"><div class=\"sk-item\"><div class=\"sk-estimator sk-toggleable\"><input class=\"sk-toggleable__control sk-hidden--visually\" id=\"sk-estimator-id-3\" type=\"checkbox\" ><label for=\"sk-estimator-id-3\" class=\"sk-toggleable__label sk-toggleable__label-arrow\">SGDClassifier</label><div class=\"sk-toggleable__content\"><pre>SGDClassifier(early_stopping=True, loss=&#x27;log_loss&#x27;, n_iter_no_change=100,\n",
       "              penalty=&#x27;elasticnet&#x27;)</pre></div></div></div></div></div></div></div></div></div></div>"
      ],
      "text/plain": [
       "GridSearchCV(estimator=SGDClassifier(early_stopping=True, loss='log_loss',\n",
       "                                     n_iter_no_change=100,\n",
       "                                     penalty='elasticnet'),\n",
       "             n_jobs=30,\n",
       "             param_grid={'learning_rate': ['optimal', 'invscaling', 'adaptive'],\n",
       "                         'max_iter': [500, 1000, 2000, 3000, 4000, 5000]},\n",
       "             scoring='f1')"
      ]
     },
     "execution_count": 14,
     "metadata": {},
     "output_type": "execute_result"
    }
   ],
   "source": [
    "grid_search.fit(X_train_transformed, y_train)"
   ]
  },
  {
   "cell_type": "code",
   "execution_count": null,
   "id": "86f560b3-07ba-41d9-832b-2cb88a2229aa",
   "metadata": {
    "tags": []
   },
   "outputs": [
    {
     "data": {
      "text/plain": [
       "{'learning_rate': 'optimal', 'max_iter': 1000}"
      ]
     },
     "execution_count": 15,
     "metadata": {},
     "output_type": "execute_result"
    }
   ],
   "source": [
    "grid_search.best_params_"
   ]
  },
  {
   "cell_type": "code",
   "execution_count": null,
   "id": "85b4bd4d-cbc0-4ee8-9731-ac635ef4c954",
   "metadata": {
    "tags": []
   },
   "outputs": [],
   "source": [
    "####CV\n",
    "from sklearn.model_selection import KFold\n",
    "splits = KFold(n_splits=10,shuffle=True,random_state=2023052701)\n",
    "\n",
    "for fold, (train_idx,val_idx) in enumerate(splits.split(np.arange(len(sample_info)))):\n",
    "    print('Fold {}'.format(fold + 1))\n",
    "    ###get fold train and test data\n",
    "    X_train_idx = train_dt.cell.isin(sample_info.cell[train_idx])\n",
    "    X_train = train_dt[X_train_idx]\n",
    "    X_test_idx = train_dt.cell.isin(sample_info.cell[val_idx])\n",
    "    X_test = train_dt[X_test_idx]\n",
    "    ###get fold train and test data\n",
    "    fold_train_exp_idx = cell_exp.cell.isin(sample_info.cell[train_idx])\n",
    "    fold_train_exp = cell_exp[fold_train_exp_idx].reset_index()\n",
    "    pca_exp = PCA(n_components=100)\n",
    "    fold_train_exp_pca = pd.DataFrame(pca_exp.fit_transform(fold_train_exp.iloc[:,2:7995]), \n",
    "                                      columns=[\"exp_pca-\" + str(i) for i in range(100)])\n",
    "    fold_train_exp_pca[\"cell\"] = fold_train_exp.cell\n",
    "    \n",
    "    fold_train_gene_idx = gene_feat.id.isin(X_train.id)\n",
    "    fold_train_gene_feat = gene_feat[fold_train_gene_idx].reset_index()\n",
    "    pca_gene = PCA(n_components=100)\n",
    "    fold_train_gene_pca = pd.DataFrame(pca_gene.fit_transform(fold_train_gene_feat.iloc[:,2:3249]),\n",
    "                                       columns=[\"gene_pca-\" + str(i) for i in range(100)])\n",
    "    fold_train_gene_pca[\"id\"] = fold_train_gene_feat.id\n",
    "    \n",
    "    X_train_dt = X_train.merge(fold_train_exp_pca, on='cell', how='left').merge(fold_train_gene_pca, on='id', how='left').drop(columns=[\"id\",\"cell\",\"is_dep\"])\n",
    "    y_train = X_train.is_dep\n",
    "    \n",
    "    fold_test_exp_idx = cell_exp.cell.isin(sample_info.cell[val_idx])\n",
    "    fold_test_exp = cell_exp[fold_test_exp_idx].reset_index()\n",
    "    fold_test_exp_pca = pd.DataFrame(pca_exp.transform(fold_test_exp.iloc[:,2:7995]), \n",
    "                                     columns=[\"exp_pca-\" + str(i) for i in range(100)])\n",
    "    fold_test_exp_pca[\"cell\"] = fold_test_exp.cell\n",
    "    \n",
    "    fold_test_gene_idx = gene_feat.id.isin(X_test.id)\n",
    "    fold_test_gene_feat = gene_feat[fold_test_gene_idx].reset_index()\n",
    "    fold_test_gene_pca = pd.DataFrame(pca_gene.transform(fold_test_gene_feat.iloc[:,2:3249]), \n",
    "                                      columns=[\"gene_pca-\" + str(i) for i in range(100)])\n",
    "    fold_test_gene_pca[\"id\"] = fold_test_gene_feat.id\n",
    "    \n",
    "    X_test_dt = X_test.merge(fold_test_exp_pca, on='cell', how='left').merge(fold_test_gene_pca, on='id', how='left').drop(columns=[\"id\",\"cell\",\"is_dep\"])\n",
    "    y_test = np.array(X_test.is_dep)\n",
    "    y_test_gene = np.array(X_test.id)\n",
    "    \n",
    "    # Initiate scaler\n",
    "    sc = StandardScaler()\n",
    "    # Standardize the training dataset\n",
    "    X_train_transformed = pd.DataFrame(sc.fit_transform(X_train_dt),index=X_train_dt.index, columns=X_train_dt.columns)\n",
    "    X_test_transformed = pd.DataFrame(sc.transform(X_test_dt),index=X_test_dt.index, columns=X_test_dt.columns)\n",
    "    ###fit model\n",
    "    clf = SGDClassifier(loss=\"log_loss\", penalty=\"elasticnet\", fit_intercept=True,\n",
    "                        learning_rate=\"optimal\", max_iter=1000, n_iter_no_change=100, early_stopping=True)\n",
    "    clf.fit(X_train_transformed, y_train)\n",
    "    y_pred = clf.predict(X_test_transformed)\n",
    "    y_pred_raw = clf.predict_proba(X_test_transformed)\n",
    "    y_pred_raw = y_pred_raw[:,1]\n",
    "    res = pd.DataFrame({\"preds\":y_pred,\"preds_raw\":y_pred_raw,\"label\":y_test,\"genes\":y_test_gene})\n",
    "    res.to_csv(\"~/meta_target/data/cv/ml_logistic/fold_\"+str(fold)+\".csv\")"
   ]
  },
  {
   "cell_type": "code",
   "execution_count": 15,
   "id": "17ddb062-3182-4a77-912a-4b61a0ebf989",
   "metadata": {
    "tags": []
   },
   "outputs": [],
   "source": [
    "##SVM\n",
    "from sklearn.kernel_approximation import Nystroem\n",
    "from sklearn.pipeline import Pipeline\n",
    "\n",
    "# feature_map_nystroem = Nystroem(random_state=2023061001)\n",
    "linear_svc = SGDClassifier(loss=\"hinge\", penalty=\"elasticnet\", fit_intercept=True, n_iter_no_change=100, early_stopping=True)\n",
    "# nystroem_approx_svm = Pipeline(\n",
    "#     [(\"feature_map\", feature_map_nystroem), \n",
    "#      (\"svm\", linear_svc)]\n",
    "# )\n",
    "\n",
    "grid_param = {\n",
    "    # \"feature_map__gamma\": [0.1,1,10],\n",
    "    # \"feature_map__n_components\": [100,200,500,1000],\n",
    "    \"max_iter\": [500,1000,2000,3000,4000,5000],\n",
    "    \"learning_rate\": ['optimal', 'invscaling', 'adaptive']\n",
    "}"
   ]
  },
  {
   "cell_type": "code",
   "execution_count": null,
   "id": "21a5f1b8-efb8-4f10-9e0b-72a1a673cdce",
   "metadata": {
    "tags": []
   },
   "outputs": [],
   "source": [
    "gridsearch = GridSearchCV(linear_svc, param_grid=grid_param, n_jobs = 30, scoring=\"f1\") # Fit grid search\n",
    "gridsearch.fit(X_train_transformed, y_train)"
   ]
  },
  {
   "cell_type": "code",
   "execution_count": null,
   "id": "79eb6cda-918d-4003-8e1d-ec91bf003836",
   "metadata": {},
   "outputs": [],
   "source": [
    "gridsearch.best_params_"
   ]
  },
  {
   "cell_type": "code",
   "execution_count": 8,
   "id": "ebe142f9-395e-416e-96ae-92e507058dc2",
   "metadata": {
    "tags": []
   },
   "outputs": [
    {
     "name": "stdout",
     "output_type": "stream",
     "text": [
      "Fold 1\n",
      "Fold 2\n",
      "Fold 3\n",
      "Fold 4\n",
      "Fold 5\n",
      "Fold 6\n",
      "Fold 7\n",
      "Fold 8\n",
      "Fold 9\n",
      "Fold 10\n"
     ]
    }
   ],
   "source": [
    "####CV\n",
    "from sklearn.model_selection import KFold\n",
    "from sklearn.kernel_approximation import Nystroem\n",
    "from sklearn.pipeline import Pipeline\n",
    "\n",
    "splits = KFold(n_splits=10,shuffle=True,random_state=2023052701)\n",
    "\n",
    "for fold, (train_idx,val_idx) in enumerate(splits.split(np.arange(len(sample_info)))):\n",
    "    print('Fold {}'.format(fold + 1))\n",
    "    ###get fold train and test data\n",
    "    fold_train_exp_idx = cell_exp.cell.isin(sample_info.cell[train_idx])\n",
    "    fold_train_exp = cell_exp[fold_train_exp_idx].reset_index()\n",
    "    pca = PCA(n_components=100)\n",
    "    fold_train_exp_pca = pd.DataFrame(pca.fit_transform(fold_train_exp.iloc[:,2:7995]), columns=[\"pca-\" + str(i) for i in range(100)])\n",
    "    fold_train_exp_pca[\"cell\"] = fold_train_exp.cell\n",
    "    \n",
    "    X_train_idx = train_dt.cell.isin(sample_info.cell[train_idx])\n",
    "    X_train = train_dt[X_train_idx]\n",
    "    X_train_dt = X_train.merge(fold_train_exp_pca, on='cell', how='left').merge(gene_pc, on='id', how='left').drop(columns=[\"id\",\"cell\",\"is_dep\"])\n",
    "    y_train = X_train.is_dep\n",
    "    \n",
    "    fold_test_exp_idx = cell_exp.cell.isin(sample_info.cell[val_idx])\n",
    "    fold_test_exp = cell_exp[fold_test_exp_idx].reset_index()\n",
    "    fold_test_exp_pca = pd.DataFrame(pca.transform(fold_test_exp.iloc[:,2:7995]), columns=[\"pca-\" + str(i) for i in range(100)])\n",
    "    fold_test_exp_pca[\"cell\"] = fold_test_exp.cell\n",
    "    \n",
    "    X_test_idx = train_dt.cell.isin(sample_info.cell[val_idx])\n",
    "    X_test = train_dt[X_test_idx]\n",
    "    X_test_dt = X_test.merge(fold_test_exp_pca, on='cell', how='left').merge(gene_pc, on='id', how='left').drop(columns=[\"id\",\"cell\",\"is_dep\"])\n",
    "    y_test = np.array(X_test.is_dep)\n",
    "    y_test_gene = np.array(X_test.id)\n",
    "    \n",
    "    # Initiate scaler\n",
    "    sc = StandardScaler()\n",
    "    # Standardize the training dataset\n",
    "    X_train_transformed = pd.DataFrame(sc.fit_transform(X_train_dt),index=X_train_dt.index, columns=X_train_dt.columns)\n",
    "    X_test_transformed = pd.DataFrame(sc.transform(X_test_dt),index=X_test_dt.index, columns=X_test_dt.columns)\n",
    "    ###fit model\n",
    "    #feature_map_nystroem = Nystroem(random_state=2023061001, gamma=0.1, n_components=1000)\n",
    "    linear_svc = SGDClassifier(loss=\"hinge\", penalty=\"elasticnet\", fit_intercept=True, n_iter_no_change=100, \n",
    "                               early_stopping=True,\n",
    "                               learning_rate=\"optimal\",max_iter=4000)\n",
    "    # nystroem_approx_svm = Pipeline(\n",
    "    #     [(\"feature_map\", feature_map_nystroem), \n",
    "    #      (\"svm\", linear_svc)]\n",
    "    # )\n",
    "    linear_svc.fit(X_train_transformed, y_train)\n",
    "    y_pred = linear_svc.predict(X_test_transformed)\n",
    "    res = pd.DataFrame({\"preds\":y_pred,\"label\":y_test,\"genes\":y_test_gene})\n",
    "    res.to_csv(\"/home/wt/meta_target/data/cv/ml_svm/fold_\"+str(fold)+\".csv\")"
   ]
  }
 ],
 "metadata": {
  "kernelspec": {
   "display_name": "dl",
   "language": "python",
   "name": "dl"
  },
  "language_info": {
   "codemirror_mode": {
    "name": "ipython",
    "version": 3
   },
   "file_extension": ".py",
   "mimetype": "text/x-python",
   "name": "python",
   "nbconvert_exporter": "python",
   "pygments_lexer": "ipython3",
   "version": "3.9.18"
  }
 },
 "nbformat": 4,
 "nbformat_minor": 5
}
