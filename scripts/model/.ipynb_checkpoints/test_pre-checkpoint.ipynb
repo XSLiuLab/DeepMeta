{
 "cells": [
  {
   "cell_type": "code",
   "execution_count": 2,
   "id": "3d6006f6-aa76-4a80-affd-65d5f9b2ffb5",
   "metadata": {
    "tags": []
   },
   "outputs": [
    {
     "data": {
      "text/plain": [
       "<All keys matched successfully>"
      ]
     },
     "execution_count": 2,
     "metadata": {},
     "output_type": "execute_result"
    }
   ],
   "source": [
    "from cell_net import cellNetDataset\n",
    "import numpy as np\n",
    "import pandas as pd\n",
    "import torch\n",
    "import torch.nn as nn  \n",
    "import pickle\n",
    "from tqdm import tqdm\n",
    "import networkx as nx\n",
    "import pickle\n",
    "import os.path\n",
    "import os\n",
    "import argparse\n",
    "import shutil\n",
    "import warnings\n",
    "warnings.filterwarnings('ignore', category=UserWarning, message='TypedStorage is deprecated')\n",
    "\n",
    "from torch_geometric.loader import DataLoader\n",
    "from torch_geometric.nn import GATv2Conv\n",
    "###参数\n",
    "# parser = argparse.ArgumentParser()\n",
    "# parser.add_argument(\"-e\", \"--exp\", help=\"file path of gene expression (tumor VS normal)\")\n",
    "# parser.add_argument(\"-g\", \"--graph\", help=\"dir path of pyg data\")\n",
    "# parser.add_argument(\"-c\", \"--cell\", help=\"file name of predicted cell (csv)\")\n",
    "# parser.add_argument(\"-n\", \"--net\", help=\"dir path of sample enzyme net\")\n",
    "# parser.add_argument(\"-t\", \"--cores\", help=\"multiprocess cores for creating pyg data\")\n",
    "# parser.add_argument(\"-m\", \"--model\", help=\"file path of model .pt file\")\n",
    "# parser.add_argument(\"-d\", \"--datatype\", help=\"test or val\")\n",
    "# parser.add_argument(\"-b\", \"--batchsize\", help=\"batch size\")\n",
    "# parser.add_argument(\"-o\", \"--output\", help=\"output file name\")\n",
    "# parser.add_argument(\"-a\", \"--gpu\", help=\"cpu or gpu\")\n",
    "# args = parser.parse_args()\n",
    "exp_file = \"/home/data/sdb/wt/model_data/geo_chemo_diff_exp.csv\"\n",
    "pyg_dir = \"/home/data/sdb/wt/model_data/tmp/geo_chemo/\"\n",
    "pre_file = \"~/DeepMeta/data/geo_chemo_cells.csv\"\n",
    "net_dir = \"/home/data/sdb/wt/model_data/geo_chemo_net/\"\n",
    "cores = 30\n",
    "model_file = \"/home/data/sdc/wt/model_data/new_model/enzyme_model_filterV2.pt\"\n",
    "# out_file = args.output\n",
    "# pre_type = args.datatype\n",
    "batch_size = 2\n",
    "device = \"cpu\"\n",
    "###create dir\n",
    "pyg_dir_raw = pyg_dir + \"/raw/\"\n",
    "pyg_dir_processed = pyg_dir + \"/processed/\"\n",
    "if not os.path.exists(pyg_dir_raw):\n",
    "    os.makedirs(pyg_dir_raw)\n",
    "if not os.path.exists(pyg_dir_processed):\n",
    "    os.makedirs(pyg_dir_processed)\n",
    "\n",
    "train_genes = pd.read_csv(\"/home/wt/meta_target/data/train_genes.csv\")\n",
    "###mv pre_file to raw dir\n",
    "if not os.path.exists(pyg_dir_raw + os.path.basename(pre_file)):\n",
    "    shutil.copy(pre_file, pyg_dir_raw)\n",
    "\n",
    "class Net(torch.nn.Module):\n",
    "    def __init__(self):\n",
    "        super().__init__()\n",
    "        self.conv1 = GATv2Conv(3247, 512, heads=3)\n",
    "        self.conv2 = GATv2Conv(3 * 512, 512, heads=3)\n",
    "        self.conv3 = GATv2Conv(3 * 512, 512, heads=3)\n",
    "        self.lin1 = torch.nn.Linear(3 * 512 + 512, 1024)\n",
    "        self.lin2 = torch.nn.Linear(1024, 512)\n",
    "        self.lin3 = torch.nn.Linear(512, 1)\n",
    "        \n",
    "        self.encoder = torch.nn.Sequential(\n",
    "            torch.nn.Linear(7993, 4000),\n",
    "            torch.nn.ReLU(),\n",
    "            torch.nn.Linear(4000, 1500),\n",
    "            torch.nn.ReLU(),\n",
    "            torch.nn.Linear(1500, 512)\n",
    "        )\n",
    "\n",
    "    def forward(self, x, edge_index, exp):\n",
    "        x = torch.relu(self.conv1(x, edge_index))\n",
    "        x = torch.relu(self.conv2(x, edge_index))\n",
    "        x = torch.relu(self.conv3(x, edge_index))\n",
    "        cell_end = self.encoder(exp)\n",
    "        \n",
    "        x = torch.cat((x, cell_end),1)\n",
    "        x = torch.relu(self.lin1(x))\n",
    "        x = torch.relu(self.lin2(x))\n",
    "        x = self.lin3(x)\n",
    "        return x\n",
    "    \n",
    "exp = pd.read_csv(exp_file)\n",
    "cell_net = cellNetDataset(root = pyg_dir,\n",
    "                          filename = os.path.basename(pre_file),\n",
    "                          exp = exp,\n",
    "                          data_type = \"test\", \n",
    "                          net_path = net_dir, \n",
    "                          cores = int(cores))\n",
    "data_loader = DataLoader(cell_net, batch_size = batch_size, shuffle = False)\n",
    "\n",
    "model = Net().to(device)\n",
    "model.load_state_dict(torch.load(model_file, map_location=device))"
   ]
  },
  {
   "cell_type": "code",
   "execution_count": 3,
   "id": "631041f4-143f-4e94-8e42-55a754b03062",
   "metadata": {
    "tags": []
   },
   "outputs": [
    {
     "data": {
      "text/plain": [
       "Data(edge_index=[2, 10295], nodename=[610], x=[610, 3247], exp=[610, 7993], cell='GSM1233067')"
      ]
     },
     "execution_count": 3,
     "metadata": {},
     "output_type": "execute_result"
    }
   ],
   "source": [
    "cell_net[0]"
   ]
  },
  {
   "cell_type": "code",
   "execution_count": 6,
   "id": "0ceb6fee-b016-4c58-aed2-27368c90f93f",
   "metadata": {
    "tags": []
   },
   "outputs": [
    {
     "name": "stderr",
     "output_type": "stream",
     "text": [
      "100%|██████████| 725/725 [06:22<00:00,  1.89it/s]\n"
     ]
    }
   ],
   "source": [
    "model.eval()\n",
    "pre_type = \"val\"\n",
    "for i, data in enumerate(tqdm(data_loader)):\n",
    "    data = data.to(device)\n",
    "    out_scale = model(data.x.float(), data.edge_index, data.exp.float())\n",
    "    preds = np.rint(torch.sigmoid(out_scale).cpu().detach().numpy().flatten())\n",
    "    preds_raw = torch.sigmoid(out_scale).cpu().detach().numpy().flatten()\n",
    "    gene_name = np.array([i for batch in data.nodename for i in batch])\n",
    "    if pre_type == \"test\":\n",
    "        ys = data.y.cpu().detach().numpy()\n",
    "        dt = {'preds':preds[data.y_index],'preds_raw':preds_raw[data.y_index],'gene_name':gene_name[data.y_index],\"label\":ys}\n",
    "    else:\n",
    "        dt = {'preds':preds,'preds_raw':preds_raw,'gene_name':gene_name}\n",
    "    if i == 0:\n",
    "        df = pd.DataFrame(dt)\n",
    "        df[\"cell\"] = data.cell[0]\n",
    "    else:\n",
    "        df1 = pd.DataFrame(dt)\n",
    "        df1[\"cell\"] = data.cell[0]\n",
    "        df = pd.concat([df, df1])"
   ]
  },
  {
   "cell_type": "code",
   "execution_count": 7,
   "id": "c31e5b89-7a81-46ca-be55-71d0c185797d",
   "metadata": {
    "tags": []
   },
   "outputs": [
    {
     "data": {
      "text/html": [
       "<div>\n",
       "<style scoped>\n",
       "    .dataframe tbody tr th:only-of-type {\n",
       "        vertical-align: middle;\n",
       "    }\n",
       "\n",
       "    .dataframe tbody tr th {\n",
       "        vertical-align: top;\n",
       "    }\n",
       "\n",
       "    .dataframe thead th {\n",
       "        text-align: right;\n",
       "    }\n",
       "</style>\n",
       "<table border=\"1\" class=\"dataframe\">\n",
       "  <thead>\n",
       "    <tr style=\"text-align: right;\">\n",
       "      <th></th>\n",
       "      <th>preds</th>\n",
       "      <th>preds_raw</th>\n",
       "      <th>gene_name</th>\n",
       "      <th>cell</th>\n",
       "    </tr>\n",
       "  </thead>\n",
       "  <tbody>\n",
       "    <tr>\n",
       "      <th>0</th>\n",
       "      <td>0.0</td>\n",
       "      <td>0.075328</td>\n",
       "      <td>ENSG00000160282</td>\n",
       "      <td>GSM1233067</td>\n",
       "    </tr>\n",
       "    <tr>\n",
       "      <th>1</th>\n",
       "      <td>0.0</td>\n",
       "      <td>0.219928</td>\n",
       "      <td>ENSG00000107798</td>\n",
       "      <td>GSM1233067</td>\n",
       "    </tr>\n",
       "    <tr>\n",
       "      <th>2</th>\n",
       "      <td>0.0</td>\n",
       "      <td>0.285216</td>\n",
       "      <td>ENSG00000171298</td>\n",
       "      <td>GSM1233067</td>\n",
       "    </tr>\n",
       "    <tr>\n",
       "      <th>3</th>\n",
       "      <td>0.0</td>\n",
       "      <td>0.181617</td>\n",
       "      <td>ENSG00000002726</td>\n",
       "      <td>GSM1233067</td>\n",
       "    </tr>\n",
       "    <tr>\n",
       "      <th>4</th>\n",
       "      <td>0.0</td>\n",
       "      <td>0.017135</td>\n",
       "      <td>ENSG00000131471</td>\n",
       "      <td>GSM1233067</td>\n",
       "    </tr>\n",
       "    <tr>\n",
       "      <th>...</th>\n",
       "      <td>...</td>\n",
       "      <td>...</td>\n",
       "      <td>...</td>\n",
       "      <td>...</td>\n",
       "    </tr>\n",
       "    <tr>\n",
       "      <th>1215</th>\n",
       "      <td>0.0</td>\n",
       "      <td>0.045546</td>\n",
       "      <td>ENSG00000160191</td>\n",
       "      <td>GSM465240</td>\n",
       "    </tr>\n",
       "    <tr>\n",
       "      <th>1216</th>\n",
       "      <td>0.0</td>\n",
       "      <td>0.013865</td>\n",
       "      <td>ENSG00000172572</td>\n",
       "      <td>GSM465240</td>\n",
       "    </tr>\n",
       "    <tr>\n",
       "      <th>1217</th>\n",
       "      <td>0.0</td>\n",
       "      <td>0.000769</td>\n",
       "      <td>ENSG00000184588</td>\n",
       "      <td>GSM465240</td>\n",
       "    </tr>\n",
       "    <tr>\n",
       "      <th>1218</th>\n",
       "      <td>0.0</td>\n",
       "      <td>0.001571</td>\n",
       "      <td>ENSG00000186642</td>\n",
       "      <td>GSM465240</td>\n",
       "    </tr>\n",
       "    <tr>\n",
       "      <th>1219</th>\n",
       "      <td>0.0</td>\n",
       "      <td>0.272213</td>\n",
       "      <td>ENSG00000205268</td>\n",
       "      <td>GSM465240</td>\n",
       "    </tr>\n",
       "  </tbody>\n",
       "</table>\n",
       "<p>908797 rows × 4 columns</p>\n",
       "</div>"
      ],
      "text/plain": [
       "      preds  preds_raw        gene_name        cell\n",
       "0       0.0   0.075328  ENSG00000160282  GSM1233067\n",
       "1       0.0   0.219928  ENSG00000107798  GSM1233067\n",
       "2       0.0   0.285216  ENSG00000171298  GSM1233067\n",
       "3       0.0   0.181617  ENSG00000002726  GSM1233067\n",
       "4       0.0   0.017135  ENSG00000131471  GSM1233067\n",
       "...     ...        ...              ...         ...\n",
       "1215    0.0   0.045546  ENSG00000160191   GSM465240\n",
       "1216    0.0   0.013865  ENSG00000172572   GSM465240\n",
       "1217    0.0   0.000769  ENSG00000184588   GSM465240\n",
       "1218    0.0   0.001571  ENSG00000186642   GSM465240\n",
       "1219    0.0   0.272213  ENSG00000205268   GSM465240\n",
       "\n",
       "[908797 rows x 4 columns]"
      ]
     },
     "execution_count": 7,
     "metadata": {},
     "output_type": "execute_result"
    }
   ],
   "source": [
    "df"
   ]
  },
  {
   "cell_type": "code",
   "execution_count": 9,
   "id": "61711b2d-9d03-43fd-b0a5-72fb236cf503",
   "metadata": {
    "tags": []
   },
   "outputs": [],
   "source": [
    "df.to_csv(\"/home/wt/DeepMeta/data/geo_test.csv\")"
   ]
  },
  {
   "cell_type": "code",
   "execution_count": null,
   "id": "abfba319-20d2-49cd-b69e-0626bad6cd30",
   "metadata": {},
   "outputs": [],
   "source": [
    "df = df[(df.gene_name.isin(train_genes.id))]\n",
    "df.to_csv(out_file)"
   ]
  }
 ],
 "metadata": {
  "kernelspec": {
   "display_name": "dl",
   "language": "python",
   "name": "dl"
  },
  "language_info": {
   "codemirror_mode": {
    "name": "ipython",
    "version": 3
   },
   "file_extension": ".py",
   "mimetype": "text/x-python",
   "name": "python",
   "nbconvert_exporter": "python",
   "pygments_lexer": "ipython3",
   "version": "3.9.18"
  }
 },
 "nbformat": 4,
 "nbformat_minor": 5
}
