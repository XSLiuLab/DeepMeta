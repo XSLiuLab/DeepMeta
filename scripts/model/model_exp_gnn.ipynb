{
 "cells": [
  {
   "cell_type": "code",
   "execution_count": 1,
   "id": "1774da00-4657-4b27-93ab-ce8ed9693061",
   "metadata": {},
   "outputs": [],
   "source": [
    "import numpy as np\n",
    "import pandas as pd\n",
    "import torch\n",
    "import torch.nn as nn  \n",
    "import pickle\n",
    "from tqdm import tqdm\n",
    "import networkx as nx\n",
    "import pickle\n",
    "import os.path\n",
    "import os\n",
    "import argparse\n",
    "import shutil\n",
    "import warnings\n",
    "from cell_net import cellNetDataset\n",
    "from torch_geometric.loader import DataLoader\n",
    "from torch_geometric.nn import GATv2Conv\n",
    "\n",
    "exp = pd.read_csv(\"/root/cancer_target/cell_gene_exp_vs_normal_filter.csv\")\n",
    "cell_net = cellNetDataset(root=\"/root/autodl-tmp/cell_net_filter_exp/\",\n",
    "                          filename = \"train_cell_info.csv\",exp = exp,\n",
    "                          data_type = \"train\", \n",
    "                          net_path = \"/root/cancer_target/cell_enzyme_net/\", \n",
    "                          cores = 30)"
   ]
  },
  {
   "cell_type": "code",
   "execution_count": 2,
   "id": "5635311f-4f95-43f4-b3e5-74f3e715cdb1",
   "metadata": {},
   "outputs": [],
   "source": [
    "class Net(torch.nn.Module):\n",
    "    def __init__(self):\n",
    "        super().__init__()\n",
    "        self.conv1 = GATv2Conv(3247, 512, heads=3)\n",
    "        self.conv2 = GATv2Conv(3 * 512, 512, heads=3)\n",
    "        self.conv3 = GATv2Conv(3 * 512, 512, heads=3)\n",
    "        self.lin1 = torch.nn.Linear(3 * 512 + 512, 1024)\n",
    "        self.lin2 = torch.nn.Linear(1024, 512)\n",
    "        self.lin3 = torch.nn.Linear(512, 1)\n",
    "        \n",
    "        self.encoder = torch.nn.Sequential(\n",
    "            torch.nn.Linear(7993, 4000),\n",
    "            torch.nn.ReLU(),\n",
    "            torch.nn.Linear(4000, 1500),\n",
    "            torch.nn.ReLU(),\n",
    "            torch.nn.Linear(1500, 512)\n",
    "        )\n",
    "\n",
    "    def forward(self, x, edge_index, exp):\n",
    "        x = torch.relu(self.conv1(x, edge_index))\n",
    "        x = torch.relu(self.conv2(x, edge_index))\n",
    "        x, (idx, atten) = self.conv3(x, edge_index, return_attention_weights=True)\n",
    "        cell_end = self.encoder(exp)\n",
    "        \n",
    "        x = torch.relu(x)\n",
    "        cat_feat = torch.cat((x, cell_end),1)\n",
    "        out = torch.relu(self.lin1(cat_feat))\n",
    "        out = torch.relu(self.lin2(out))\n",
    "        out = self.lin3(out)\n",
    "        return out, (idx, atten)"
   ]
  },
  {
   "cell_type": "code",
   "execution_count": 3,
   "id": "c39ac45a-311c-435e-bc73-3cd56ac48ab1",
   "metadata": {},
   "outputs": [
    {
     "data": {
      "text/plain": [
       "<All keys matched successfully>"
      ]
     },
     "execution_count": 3,
     "metadata": {},
     "output_type": "execute_result"
    }
   ],
   "source": [
    "device = torch.device(\"cuda\" if torch.cuda.is_available() else \"cpu\")\n",
    "model = Net().to(device)\n",
    "model.load_state_dict(torch.load(\"/root/cancer_target/enzyme_model_filterV2.pt\", map_location=device))"
   ]
  },
  {
   "cell_type": "code",
   "execution_count": 4,
   "id": "0e05d4f6-0dbb-4f28-98f8-19d0df3fa304",
   "metadata": {},
   "outputs": [],
   "source": [
    "train_loader = DataLoader(cell_net, batch_size=1)"
   ]
  },
  {
   "cell_type": "code",
   "execution_count": 5,
   "id": "f7a95399-2c11-4083-af6f-236bfcf521ce",
   "metadata": {},
   "outputs": [],
   "source": [
    "tt = next(iter(train_loader))"
   ]
  },
  {
   "cell_type": "code",
   "execution_count": 5,
   "id": "d0dfc02a-ba7e-4ae6-8198-a3a86fb8429b",
   "metadata": {},
   "outputs": [
    {
     "name": "stderr",
     "output_type": "stream",
     "text": [
      "100%|██████████| 684/684 [03:42<00:00,  3.07it/s]\n"
     ]
    }
   ],
   "source": [
    "model.eval()\n",
    "for _, data in enumerate(tqdm(train_loader)):\n",
    "    data = data.to(device)\n",
    "    res, atten = model(data.x.float(), data.edge_index, data.exp.float())\n",
    "    idx = atten[0].cpu().detach().numpy()\n",
    "    weight = atten[1].cpu().detach().numpy()\n",
    "    res = np.rint(torch.sigmoid(res.cpu().detach()).numpy().flatten())\n",
    "    ### 转化为 数据框\n",
    "    idx_dt = pd.DataFrame(np.transpose(idx),columns=[\"source\",\"target\"])\n",
    "    weight_dt = pd.DataFrame(weight,columns=[\"w1\",\"w2\",\"w3\"])\n",
    "    all_res = pd.concat([idx_dt,weight_dt],axis=1)\n",
    "    # need_idx = data.y_index.cpu().detach().numpy()\n",
    "    # all_res_filter = all_res[(all_res.source.isin(need_idx) | all_res.target.isin(need_idx))].reset_index().drop(columns=[\"index\"])\n",
    "    need_genes = np.array(data.nodename[0])\n",
    "    gene_idx = pd.DataFrame({\"source\":range(len(need_genes)),\n",
    "                             \"target\":range(len(need_genes)),\n",
    "                             \"genes\":need_genes,\n",
    "                             \"preds\":res})\n",
    "    all_res = all_res.merge(gene_idx.drop(columns=[\"target\"]),\n",
    "                            on='source', how='left').merge(gene_idx.drop(columns=[\"source\"]),\n",
    "                                                           on='target', how='left')\n",
    "    all_res[\"cell\"] = data.cell*len(all_res)\n",
    "    all_res.to_csv(\"/root/autodl-tmp/atten/\"+data.cell[0]+\".tsv\",sep=\"\\t\")"
   ]
  },
  {
   "cell_type": "code",
   "execution_count": 6,
   "id": "5f4842c5-9742-418f-a752-9cfaf9cb1446",
   "metadata": {},
   "outputs": [],
   "source": [
    "data = tt.to(device)\n",
    "res, atten = model(data.x.float(), data.edge_index, data.exp.float())"
   ]
  },
  {
   "cell_type": "code",
   "execution_count": 7,
   "id": "6a493a84-079c-4e1a-b9d1-8dcca3c42835",
   "metadata": {},
   "outputs": [
    {
     "data": {
      "text/plain": [
       "(tensor([[  0,   0,   0,  ..., 821, 822, 823],\n",
       "         [  1,  43,  46,  ..., 821, 822, 823]], device='cuda:0'),\n",
       " tensor([[1.4214e-15, 1.4970e-13, 7.2325e-15],\n",
       "         [5.0834e-35, 6.9566e-20, 1.9366e-34],\n",
       "         [1.5292e-20, 6.8977e-22, 1.8351e-21],\n",
       "         ...,\n",
       "         [1.0000e+00, 1.0000e+00, 1.0000e+00],\n",
       "         [1.0000e+00, 1.0000e+00, 1.0000e+00],\n",
       "         [3.8354e-05, 1.1435e-01, 1.6849e-05]], device='cuda:0',\n",
       "        grad_fn=<DivBackward0>))"
      ]
     },
     "execution_count": 7,
     "metadata": {},
     "output_type": "execute_result"
    }
   ],
   "source": [
    "atten"
   ]
  }
 ],
 "metadata": {
  "kernelspec": {
   "display_name": "Python 3 (ipykernel)",
   "language": "python",
   "name": "python3"
  },
  "language_info": {
   "codemirror_mode": {
    "name": "ipython",
    "version": 3
   },
   "file_extension": ".py",
   "mimetype": "text/x-python",
   "name": "python",
   "nbconvert_exporter": "python",
   "pygments_lexer": "ipython3",
   "version": "3.8.10"
  }
 },
 "nbformat": 4,
 "nbformat_minor": 5
}
